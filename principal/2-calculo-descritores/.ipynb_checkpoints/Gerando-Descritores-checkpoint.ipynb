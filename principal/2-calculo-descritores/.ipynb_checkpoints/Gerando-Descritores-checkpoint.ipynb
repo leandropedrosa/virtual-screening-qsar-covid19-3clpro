{
 "cells": [
  {
   "cell_type": "code",
   "execution_count": 79,
   "id": "af3b1313",
   "metadata": {},
   "outputs": [],
   "source": [
    "import pandas as pd\n",
    "from padelpy import from_smiles\n",
    "from rdkit.Chem import AllChem as Chem\n",
    "from rdkit.Chem.Draw import IPythonConsole\n",
    "from rdkit.Chem import PandasTools\n",
    "from rdkit.Chem import Draw, Descriptors\n",
    "from rdkit.ML.Descriptors import MoleculeDescriptors\n",
    "from rdkit import DataStructs\n",
    "from padelpy import from_smiles, from_mdl, from_sdf, padeldescriptor\n",
    "\n",
    "import sirms as si\n",
    "\n",
    "import numpy as np\n",
    "import seaborn as sns\n",
    "import matplotlib"
   ]
  },
  {
   "cell_type": "code",
   "execution_count": 59,
   "id": "7cda780d",
   "metadata": {},
   "outputs": [],
   "source": [
    "datafile = pd.read_csv(\"../1-dados/DADOS/SMILES/COVID-Sulkowsk-LabTable.csv\", delimiter= \",\")"
   ]
  },
  {
   "cell_type": "code",
   "execution_count": 60,
   "id": "1d7b924f",
   "metadata": {},
   "outputs": [
    {
     "name": "stdout",
     "output_type": "stream",
     "text": [
      "['ID', 'SMILES', 'ENAMINE_ID', 'Molecule']\n"
     ]
    }
   ],
   "source": [
    "PandasTools.AddMoleculeColumnToFrame(datafile,'SMILES','Molecule',includeFingerprints=True)\n",
    ">>> print([str(x) for x in  datafile.columns])"
   ]
  },
  {
   "cell_type": "markdown",
   "id": "8b0cd649",
   "metadata": {},
   "source": [
    "# Gerando descritores PADEL"
   ]
  },
  {
   "cell_type": "code",
   "execution_count": 81,
   "id": "a0dab7cf",
   "metadata": {},
   "outputs": [],
   "source": [
    "padeldescriptor(mol_dir=\"../1-dados/DADOS/SDF/COVID-Sulkowsk.sdf\", d_file='./DESCRITORES/PADEL/padel.csv', d_2d=True, d_3d=True)"
   ]
  },
  {
   "cell_type": "markdown",
   "id": "95c4ec73",
   "metadata": {},
   "source": [
    "# Gerando descritores RDKIT"
   ]
  },
  {
   "cell_type": "code",
   "execution_count": 85,
   "id": "af7320e4",
   "metadata": {},
   "outputs": [],
   "source": [
    "mols = [Chem.MolFromSmiles(smi) for smi in datafile['SMILES'].array.shift().dropna()]\n",
    "rdkit_2d_desc = []\n",
    "calc = MoleculeDescriptors.MolecularDescriptorCalculator([x[0] for x in Descriptors._descList])\n",
    "header = calc.GetDescriptorNames()\n",
    "for i in range(len(mols)):\n",
    "    ds = calc.CalcDescriptors(mols[i])\n",
    "    rdkit_2d_desc.append(ds)\n",
    "df = pd.DataFrame(rdkit_2d_desc,columns=header)\n",
    "df.to_csv('RDKit_2D_Molecule_Descriptors.csv')"
   ]
  },
  {
   "cell_type": "markdown",
   "id": "339a7bc7",
   "metadata": {},
   "source": [
    "# Gerando descritores MorganFingerprint"
   ]
  },
  {
   "cell_type": "code",
   "execution_count": 42,
   "id": "8d07e561",
   "metadata": {},
   "outputs": [],
   "source": [
    "FP = [Chem.GetMorganFingerprintAsBitVect(m, 2, 1024) for m in datafile['Molecule'].array.shift().dropna()]\n",
    "df_FP = pd.DataFrame(np.array(FP))"
   ]
  }
 ],
 "metadata": {
  "kernelspec": {
   "display_name": "Python 3 (ipykernel)",
   "language": "python",
   "name": "python3"
  },
  "language_info": {
   "codemirror_mode": {
    "name": "ipython",
    "version": 3
   },
   "file_extension": ".py",
   "mimetype": "text/x-python",
   "name": "python",
   "nbconvert_exporter": "python",
   "pygments_lexer": "ipython3",
   "version": "3.7.11"
  }
 },
 "nbformat": 4,
 "nbformat_minor": 5
}
