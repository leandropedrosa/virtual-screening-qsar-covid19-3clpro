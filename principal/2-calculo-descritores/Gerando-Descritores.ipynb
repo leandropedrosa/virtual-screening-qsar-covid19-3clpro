{
 "cells": [
  {
   "cell_type": "code",
   "execution_count": 97,
   "id": "af3b1313",
   "metadata": {},
   "outputs": [],
   "source": [
    "import pandas as pd\n",
    "from padelpy import from_smiles\n",
    "from rdkit.Chem import AllChem as Chem\n",
    "from rdkit.Chem.Draw import IPythonConsole\n",
    "from rdkit.Chem import PandasTools\n",
    "from rdkit.Chem import Draw, Descriptors\n",
    "from rdkit.ML.Descriptors import MoleculeDescriptors\n",
    "from rdkit import DataStructs\n",
    "from padelpy import from_smiles, from_mdl, from_sdf, padeldescriptor\n",
    "\n",
    "import sirms as si\n",
    "\n",
    "import numpy as np\n",
    "import seaborn as sns\n",
    "import matplotlib"
   ]
  },
  {
   "cell_type": "code",
   "execution_count": 98,
   "id": "ce4eea4b",
   "metadata": {},
   "outputs": [],
   "source": [
    "datafile = pd.read_csv(\"../1-dados/DADOS/SMILES/COVID-Sulkowsk-LabTable.csv\", delimiter= \",\")"
   ]
  },
  {
   "cell_type": "code",
   "execution_count": 99,
   "id": "b38b49b9",
   "metadata": {},
   "outputs": [
    {
     "name": "stdout",
     "output_type": "stream",
     "text": [
      "['ID', 'SMILES', 'activity', 'Molecule']\n"
     ]
    }
   ],
   "source": [
    "PandasTools.AddMoleculeColumnToFrame(datafile,'SMILES','Molecule',includeFingerprints=True)\n",
    ">>> print([str(x) for x in  datafile.columns])"
   ]
  },
  {
   "cell_type": "markdown",
   "id": "8b0cd649",
   "metadata": {},
   "source": [
    "# Gerando descritores PADEL"
   ]
  },
  {
   "cell_type": "code",
   "execution_count": 100,
   "id": "82f596b0",
   "metadata": {},
   "outputs": [],
   "source": [
    "padeldescriptor(mol_dir=\"../1-dados/DADOS/SDF/COVID-Sulkowsk.sdf\", d_file='./DESCRITORES/PADEL/padel_descriptors.csv', d_2d=True, d_3d=True)"
   ]
  },
  {
   "cell_type": "markdown",
   "id": "746c2d31",
   "metadata": {},
   "source": [
    "# Gerando descritores RDKIT"
   ]
  },
  {
   "cell_type": "code",
   "execution_count": 101,
   "id": "672df470",
   "metadata": {},
   "outputs": [],
   "source": [
    "mols = [Chem.MolFromSmiles(smi) for smi in datafile['SMILES'].array.shift().dropna()]\n",
    "rdkit_2d_desc = []\n",
    "calc = MoleculeDescriptors.MolecularDescriptorCalculator([x[0] for x in Descriptors._descList])\n",
    "header = calc.GetDescriptorNames()\n",
    "for i in range(len(mols)):\n",
    "    ds = calc.CalcDescriptors(mols[i])\n",
    "    rdkit_2d_desc.append(ds)\n",
    "df = pd.DataFrame(rdkit_2d_desc,columns=header)\n",
    "df.to_csv('./DESCRITORES/RDKIT/rdkit_Molecule_descriptors.csv')"
   ]
  },
  {
   "cell_type": "markdown",
   "id": "36c10830",
   "metadata": {},
   "source": [
    "# Gerando descritores MorganFingerprint"
   ]
  },
  {
   "cell_type": "code",
   "execution_count": 102,
   "id": "f1ccc01e",
   "metadata": {},
   "outputs": [],
   "source": [
    "FP = [Chem.GetMorganFingerprintAsBitVect(m, 2, 1024) for m in datafile['Molecule'].array.shift().dropna()]\n",
    "df_FP = pd.DataFrame(np.array(FP))\n",
    "df.to_csv('./DESCRITORES/MORGAN/morgan_fingerprint_descriptors.csv')"
   ]
  },
  {
   "cell_type": "code",
   "execution_count": null,
   "id": "1e083f14",
   "metadata": {},
   "outputs": [],
   "source": []
  }
 ],
 "metadata": {
  "kernelspec": {
   "display_name": "Python 3 (ipykernel)",
   "language": "python",
   "name": "python3"
  },
  "language_info": {
   "codemirror_mode": {
    "name": "ipython",
    "version": 3
   },
   "file_extension": ".py",
   "mimetype": "text/x-python",
   "name": "python",
   "nbconvert_exporter": "python",
   "pygments_lexer": "ipython3",
   "version": "3.7.11"
  }
 },
 "nbformat": 4,
 "nbformat_minor": 5
}
