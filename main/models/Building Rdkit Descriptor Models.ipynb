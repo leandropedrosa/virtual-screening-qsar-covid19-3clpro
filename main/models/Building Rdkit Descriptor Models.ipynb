{
 "cells": [
  {
   "cell_type": "code",
   "execution_count": 1,
   "id": "3877b18b",
   "metadata": {},
   "outputs": [],
   "source": [
    "\n",
    "import numpy as np\n",
    "import pandas as pd\n",
    "# Algorítimos\n",
    "from sklearn.ensemble import RandomForestClassifier\n",
    "from sklearn.neural_network import MLPClassifier\n",
    "from sklearn.svm import SVC\n",
    "\n",
    "from rdkit import Chem, DataStructs\n",
    "from rdkit.Chem import AllChem, Descriptors\n",
    "from sklearn.model_selection import train_test_split, StratifiedKFold, RandomizedSearchCV\n",
    "from sklearn.datasets import make_classification\n",
    "from sklearn.model_selection import cross_val_score, KFold\n",
    "from nested_cv import NestedCV\n",
    "from sklearn.preprocessing import MinMaxScaler, StandardScaler\n",
    "import joblib\n",
    "from sklearn.metrics import accuracy_score, cohen_kappa_score, matthews_corrcoef\n",
    "from scipy.stats import expon, randint, uniform\n",
    "from scipy.stats import randint as sp_randint\n",
    "\n"
   ]
  },
  {
   "cell_type": "code",
   "execution_count": 2,
   "id": "1ab18e5d",
   "metadata": {},
   "outputs": [],
   "source": [
    "from rdkit.Chem import PandasTools\n",
    "from collections import Counter\n",
    "## Carregar dados\n",
    "def carregar_dados():\n",
    "    # Definir caminho do arquivo\n",
    "    file = '../dataset/formats/sdf/COVID-Sulkowsk.sdf'\n",
    "\n",
    "       # Novo dicionário inicializado a partir de um objeto de mapeamento\n",
    "    sdfInfo = dict(smilesName='SMILES', molColName='ROMol')\n",
    "\n",
    "    # Carregando o arquivo SDF com os dicionarios mapeados\n",
    "    moldf = PandasTools.LoadSDF(file, **sdfInfo)\n",
    "    print('Original data: ', moldf.shape)\n",
    "\n",
    "    # Renomear ROMol\n",
    "    moldf = moldf.rename(columns={'ROMol': 'Mol'})\n",
    "\n",
    "    # Remover moléculas RDKit ausentes\n",
    "    moldf = moldf[pd.notnull(moldf['Mol'])]\n",
    "    if 'StandardizerResult' in moldf.columns:\n",
    "        moldf = moldf.drop(columns='StandardizerResult')\n",
    "\n",
    "    # Colunas\n",
    "    print('Dados mantidos: ', moldf.shape)\n",
    "\n",
    "\n",
    "    moldf['Outcome'] = moldf['Outcome'].replace('Active', 1)\n",
    "    moldf['Outcome'] = moldf['Outcome'].replace('Inactive', 0)\n",
    "\n",
    "    classes = Counter(moldf['Outcome'])\n",
    "    print('\\033[1m' + 'Forma do conjunto de treinamento:' + '\\n' + '\\033[0m')\n",
    "    for key, value in classes.items():\n",
    "        print('\\t\\t Classe %d: %d' % (key, value))\n",
    "    print('\\t\\t Número total de compostos: %d' % (len(moldf['Outcome'])))\n",
    "\n",
    "    print('Class labels:', np.unique(classes))\n",
    "  \n",
    "    return moldf"
   ]
  },
  {
   "cell_type": "code",
   "execution_count": 3,
   "id": "b451a071",
   "metadata": {},
   "outputs": [
    {
     "name": "stdout",
     "output_type": "stream",
     "text": [
      "Original data:  (2612, 4)\n",
      "Dados mantidos:  (2612, 4)\n",
      "\u001b[1mForma do conjunto de treinamento:\n",
      "\u001b[0m\n",
      "\t\t Classe 1: 950\n",
      "\t\t Classe 0: 1662\n",
      "\t\t Número total de compostos: 2612\n",
      "Class labels: [Counter({0: 1662, 1: 950})]\n"
     ]
    },
    {
     "data": {
      "image/png": "[encoded data removed]",
      "text/plain": [
       "<Figure size 432x288 with 1 Axes>"
      ]
     },
     "metadata": {
      "needs_background": "light"
     },
     "output_type": "display_data"
    },
    {
     "data": {
      "image/png": "[encoded data removed]",
      "text/plain": [
       "<Figure size 432x288 with 1 Axes>"
      ]
     },
     "metadata": {
      "needs_background": "light"
     },
     "output_type": "display_data"
    }
   ],
   "source": [
    "moldf = carregar_dados();\n",
    "moldf.plot(kind=\"hist\", legend=None, bins=20, color='k')\n",
    "moldf.plot(kind=\"kde\", legend=None);"
   ]
  },
  {
   "cell_type": "code",
   "execution_count": 22,
   "id": "2272869e",
   "metadata": {},
   "outputs": [],
   "source": [
    "import pandas as pd\n",
    "import numpy as np\n",
    "import matplotlib.pyplot as plt\n",
    "from rdkit import Chem\n",
    "from math import floor\n",
    "#Rdkit: coleção de quiminformática e software de aprendizado de máquina escrito em C++ e Python de Código Aberto.\n",
    "from rdkit import Chem\n",
    "from rdkit.Chem import AllChem\n",
    "from rdkit.Chem import Draw\n",
    "from rdkit.Chem import PandasTools\n",
    "from rdkit.Chem.Draw import IPythonConsole\n",
    "from collections import Counter\n",
    "from sklearn.feature_selection import VarianceThreshold\n",
    "\n",
    "## Carregar dados\n",
    "def rdkit_descriptors(moldf):\n",
    "    desc = pd.read_csv('../descriptors/generate/rdkit/rdkit_Molecule_descriptors.csv', sep=',')\n",
    "    desc.drop(desc.columns[0:1], axis=1,inplace=True)\n",
    "    descriptors = desc.columns.difference(moldf.columns).tolist()\n",
    "    \n",
    "    moldf_desc = pd.concat([moldf,desc], axis=1)\n",
    "    moldf_desc['Set'] = 'train'\n",
    "    moldf_train = moldf_desc[(moldf_desc['Set'] == 'train')]\n",
    "\n",
    "    y_train = moldf_train['Outcome'].to_numpy()\n",
    "    X_train = moldf_train[descriptors]\n",
    "    X_train.shape\n",
    "    \n",
    "    data_train = {'moldf_desc': moldf_desc, 'moldf_train': moldf_train, 'Y_train': moldf_train['Outcome'].to_numpy(), 'X_train': moldf_train[descriptors]}\n",
    "    return data_train\n",
    "    "
   ]
  },
  {
   "cell_type": "code",
   "execution_count": 23,
   "id": "2a8b8380",
   "metadata": {},
   "outputs": [
    {
     "data": {
      "text/plain": [
       "(2612, 208)"
      ]
     },
     "execution_count": 23,
     "metadata": {},
     "output_type": "execute_result"
    }
   ],
   "source": [
    "data_rdkit = rdkit_descriptors(moldf)\n",
    "Y_train_rdkit = data_rdkit['Y_train']\n",
    "X_train_rdkit = data_rdkit['X_train']\n",
    "X_train_rdkit.shape"
   ]
  },
  {
   "cell_type": "code",
   "execution_count": 24,
   "id": "1ffbd613",
   "metadata": {},
   "outputs": [
    {
     "data": {
      "text/plain": [
       "0.36370597243491576"
      ]
     },
     "execution_count": 24,
     "metadata": {},
     "output_type": "execute_result"
    }
   ],
   "source": [
    "# verifique se o conjunto de dados está balanceado\n",
    "sum(Y_train_rdkit) / len(Y_train_rdkit)"
   ]
  },
  {
   "cell_type": "code",
   "execution_count": 25,
   "id": "9cafd2e9",
   "metadata": {},
   "outputs": [],
   "source": [
    "seed = 42"
   ]
  },
  {
   "cell_type": "markdown",
   "id": "a5c1214c",
   "metadata": {},
   "source": [
    "#### Divida todo o conjunto em conjuntos de treinamento e teste"
   ]
  },
  {
   "cell_type": "code",
   "execution_count": 26,
   "id": "4c86e762",
   "metadata": {},
   "outputs": [],
   "source": [
    "# randomly select 20% of compounds as test set\n",
    "x_tr, x_ts, y_tr, y_ts = train_test_split(X_train_rdkit, Y_train_rdkit, test_size=0.20, random_state=seed)"
   ]
  },
  {
   "cell_type": "code",
   "execution_count": 27,
   "id": "a663991e",
   "metadata": {},
   "outputs": [],
   "source": [
    "cv = StratifiedKFold(n_splits=5, shuffle=False, random_state=None)"
   ]
  },
  {
   "cell_type": "code",
   "execution_count": 28,
   "id": "bdf248d7",
   "metadata": {
    "scrolled": false
   },
   "outputs": [
    {
     "name": "stdout",
     "output_type": "stream",
     "text": [
      "\n",
      "Fold_1\n",
      "TRAIN: [ 418  419  420 ... 2086 2087 2088]\n",
      "TEST: [  0   1   2   3   4   5   6   7   8   9  10  11  12  13  14  15  16  17\n",
      "  18  19  20  21  22  23  24  25  26  27  28  29  30  31  32  33  34  35\n",
      "  36  37  38  39  40  41  42  43  44  45  46  47  48  49  50  51  52  53\n",
      "  54  55  56  57  58  59  60  61  62  63  64  65  66  67  68  69  70  71\n",
      "  72  73  74  75  76  77  78  79  80  81  82  83  84  85  86  87  88  89\n",
      "  90  91  92  93  94  95  96  97  98  99 100 101 102 103 104 105 106 107\n",
      " 108 109 110 111 112 113 114 115 116 117 118 119 120 121 122 123 124 125\n",
      " 126 127 128 129 130 131 132 133 134 135 136 137 138 139 140 141 142 143\n",
      " 144 145 146 147 148 149 150 151 152 153 154 155 156 157 158 159 160 161\n",
      " 162 163 164 165 166 167 168 169 170 171 172 173 174 175 176 177 178 179\n",
      " 180 181 182 183 184 185 186 187 188 189 190 191 192 193 194 195 196 197\n",
      " 198 199 200 201 202 203 204 205 206 207 208 209 210 211 212 213 214 215\n",
      " 216 217 218 219 220 221 222 223 224 225 226 227 228 229 230 231 232 233\n",
      " 234 235 236 237 238 239 240 241 242 243 244 245 246 247 248 249 250 251\n",
      " 252 253 254 255 256 257 258 259 260 261 262 263 264 265 266 267 268 269\n",
      " 270 271 272 273 274 275 276 277 278 279 280 281 282 283 284 285 286 287\n",
      " 288 289 290 291 292 293 294 295 296 297 298 299 300 301 302 303 304 305\n",
      " 306 307 308 309 310 311 312 313 314 315 316 317 318 319 320 321 322 323\n",
      " 324 325 326 327 328 329 330 331 332 333 334 335 336 337 338 339 340 341\n",
      " 342 343 344 345 346 347 348 349 350 351 352 353 354 355 356 357 358 359\n",
      " 360 361 362 363 364 365 366 367 368 369 370 371 372 373 374 375 376 377\n",
      " 378 379 380 381 382 383 384 385 386 387 388 389 390 391 392 393 394 395\n",
      " 396 397 398 399 400 401 402 403 404 405 406 407 408 409 410 411 412 413\n",
      " 414 415 416 417]\n",
      "\n",
      "Fold_2\n",
      "TRAIN: [   0    1    2 ... 2086 2087 2088]\n",
      "TEST: [418 419 420 421 422 423 424 425 426 427 428 429 430 431 432 433 434 435\n",
      " 436 437 438 439 440 441 442 443 444 445 446 447 448 449 450 451 452 453\n",
      " 454 455 456 457 458 459 460 461 462 463 464 465 466 467 468 469 470 471\n",
      " 472 473 474 475 476 477 478 479 480 481 482 483 484 485 486 487 488 489\n",
      " 490 491 492 493 494 495 496 497 498 499 500 501 502 503 504 505 506 507\n",
      " 508 509 510 511 512 513 514 515 516 517 518 519 520 521 522 523 524 525\n",
      " 526 527 528 529 530 531 532 533 534 535 536 537 538 539 540 541 542 543\n",
      " 544 545 546 547 548 549 550 551 552 553 554 555 556 557 558 559 560 561\n",
      " 562 563 564 565 566 567 568 569 570 571 572 573 574 575 576 577 578 579\n",
      " 580 581 582 583 584 585 586 587 588 589 590 591 592 593 594 595 596 597\n",
      " 598 599 600 601 602 603 604 605 606 607 608 609 610 611 612 613 614 615\n",
      " 616 617 618 619 620 621 622 623 624 625 626 627 628 629 630 631 632 633\n",
      " 634 635 636 637 638 639 640 641 642 643 644 645 646 647 648 649 650 651\n",
      " 652 653 654 655 656 657 658 659 660 661 662 663 664 665 666 667 668 669\n",
      " 670 671 672 673 674 675 676 677 678 679 680 681 682 683 684 685 686 687\n",
      " 688 689 690 691 692 693 694 695 696 697 698 699 700 701 702 703 704 705\n",
      " 706 707 708 709 710 711 712 713 714 715 716 717 718 719 720 721 722 723\n",
      " 724 725 726 727 728 729 730 731 732 733 734 735 736 737 738 739 740 741\n",
      " 742 743 744 745 746 747 748 749 750 751 752 753 754 755 756 757 758 759\n",
      " 760 761 762 763 764 765 766 767 768 769 770 771 772 773 774 775 776 777\n",
      " 778 779 780 781 782 783 784 785 786 787 788 789 790 791 792 793 794 795\n",
      " 796 797 798 799 800 801 802 803 804 805 806 807 808 809 810 811 812 813\n",
      " 814 815 816 817 818 819 820 821 822 823 824 825 826 831 832 833 837 838\n",
      " 840 841 844 847]\n",
      "\n",
      "Fold_3\n",
      "TRAIN: [   0    1    2 ... 2086 2087 2088]\n",
      "TEST: [ 827  828  829  830  834  835  836  839  842  843  845  846  848  849\n",
      "  850  851  852  853  854  855  856  857  858  859  860  861  862  863\n",
      "  864  865  866  867  868  869  870  871  872  873  874  875  876  877\n",
      "  878  879  880  881  882  883  884  885  886  887  888  889  890  891\n",
      "  892  893  894  895  896  897  898  899  900  901  902  903  904  905\n",
      "  906  907  908  909  910  911  912  913  914  915  916  917  918  919\n",
      "  920  921  922  923  924  925  926  927  928  929  930  931  932  933\n",
      "  934  935  936  937  938  939  940  941  942  943  944  945  946  947\n",
      "  948  949  950  951  952  953  954  955  956  957  958  959  960  961\n",
      "  962  963  964  965  966  967  968  969  970  971  972  973  974  975\n",
      "  976  977  978  979  980  981  982  983  984  985  986  987  988  989\n",
      "  990  991  992  993  994  995  996  997  998  999 1000 1001 1002 1003\n",
      " 1004 1005 1006 1007 1008 1009 1010 1011 1012 1013 1014 1015 1016 1017\n",
      " 1018 1019 1020 1021 1022 1023 1024 1025 1026 1027 1028 1029 1030 1031\n",
      " 1032 1033 1034 1035 1036 1037 1038 1039 1040 1041 1042 1043 1044 1045\n",
      " 1046 1047 1048 1049 1050 1051 1052 1053 1054 1055 1056 1057 1058 1059\n",
      " 1060 1061 1062 1063 1064 1065 1066 1067 1068 1069 1070 1071 1072 1073\n",
      " 1074 1075 1076 1077 1078 1079 1080 1081 1082 1083 1084 1085 1086 1087\n",
      " 1088 1089 1090 1091 1092 1093 1094 1095 1096 1097 1098 1099 1100 1101\n",
      " 1102 1103 1104 1105 1106 1107 1108 1109 1110 1111 1112 1113 1114 1115\n",
      " 1116 1117 1118 1119 1120 1121 1122 1123 1124 1125 1126 1127 1128 1129\n",
      " 1130 1131 1132 1133 1134 1135 1136 1137 1138 1139 1140 1141 1142 1143\n",
      " 1144 1145 1146 1147 1148 1149 1150 1151 1152 1153 1154 1155 1156 1157\n",
      " 1158 1159 1160 1161 1162 1163 1164 1165 1166 1167 1168 1169 1170 1171\n",
      " 1172 1173 1174 1175 1176 1177 1178 1179 1180 1181 1182 1183 1184 1185\n",
      " 1186 1187 1188 1189 1190 1191 1192 1193 1194 1195 1196 1197 1198 1199\n",
      " 1200 1201 1202 1203 1204 1205 1206 1207 1208 1209 1210 1211 1212 1213\n",
      " 1214 1215 1216 1217 1218 1219 1220 1221 1222 1223 1224 1225 1226 1227\n",
      " 1228 1229 1230 1231 1232 1233 1234 1235 1236 1237 1238 1239 1240 1241\n",
      " 1242 1243 1244 1245 1246 1247 1248 1249 1250 1251 1252 1253]\n",
      "\n",
      "Fold_4\n",
      "TRAIN: [   0    1    2 ... 2086 2087 2088]\n",
      "TEST: [1254 1255 1256 1257 1258 1259 1260 1261 1262 1263 1264 1265 1266 1267\n",
      " 1268 1269 1270 1271 1272 1273 1274 1275 1276 1277 1278 1279 1280 1281\n",
      " 1282 1283 1284 1285 1286 1287 1288 1289 1290 1291 1292 1293 1294 1295\n",
      " 1296 1297 1298 1299 1300 1301 1302 1303 1304 1305 1306 1307 1308 1309\n",
      " 1310 1311 1312 1313 1314 1315 1316 1317 1318 1319 1320 1321 1322 1323\n",
      " 1324 1325 1326 1327 1328 1329 1330 1331 1332 1333 1334 1335 1336 1337\n",
      " 1338 1339 1340 1341 1342 1343 1344 1345 1346 1347 1348 1349 1350 1351\n",
      " 1352 1353 1354 1355 1356 1357 1358 1359 1360 1361 1362 1363 1364 1365\n",
      " 1366 1367 1368 1369 1370 1371 1372 1373 1374 1375 1376 1377 1378 1379\n",
      " 1380 1381 1382 1383 1384 1385 1386 1387 1388 1389 1390 1391 1392 1393\n",
      " 1394 1395 1396 1397 1398 1399 1400 1401 1402 1403 1404 1405 1406 1407\n",
      " 1408 1409 1410 1411 1412 1413 1414 1415 1416 1417 1418 1419 1420 1421\n",
      " 1422 1423 1424 1425 1426 1427 1428 1429 1430 1431 1432 1433 1434 1435\n",
      " 1436 1437 1438 1439 1440 1441 1442 1443 1444 1445 1446 1447 1448 1449\n",
      " 1450 1451 1452 1453 1454 1455 1456 1457 1458 1459 1460 1461 1462 1463\n",
      " 1464 1465 1466 1467 1468 1469 1470 1471 1472 1473 1474 1475 1476 1477\n",
      " 1478 1479 1480 1481 1482 1483 1484 1485 1486 1487 1488 1489 1490 1491\n",
      " 1492 1493 1494 1495 1496 1497 1498 1499 1500 1501 1502 1503 1504 1505\n",
      " 1506 1507 1508 1509 1510 1511 1512 1513 1514 1515 1516 1517 1518 1519\n",
      " 1520 1521 1522 1523 1524 1525 1526 1527 1528 1529 1530 1531 1532 1533\n",
      " 1534 1535 1536 1537 1538 1539 1540 1541 1542 1543 1544 1545 1546 1547\n",
      " 1548 1549 1550 1551 1552 1553 1554 1555 1556 1557 1558 1559 1560 1561\n",
      " 1562 1563 1564 1565 1566 1567 1568 1569 1570 1571 1572 1573 1574 1575\n",
      " 1576 1577 1578 1579 1580 1581 1582 1583 1584 1585 1586 1587 1588 1589\n",
      " 1590 1591 1592 1593 1594 1595 1596 1597 1598 1599 1600 1601 1602 1603\n",
      " 1604 1605 1606 1607 1608 1609 1610 1611 1612 1613 1614 1615 1616 1617\n",
      " 1618 1619 1620 1621 1622 1623 1624 1625 1626 1627 1628 1629 1630 1631\n",
      " 1632 1633 1634 1635 1636 1637 1638 1639 1640 1641 1643 1645 1646 1647\n",
      " 1648 1649 1650 1651 1655 1656 1661 1662 1664 1666 1669 1670 1671 1672\n",
      " 1673 1674 1675 1676 1677 1681 1684 1685 1686 1687 1688 1689]\n",
      "\n",
      "Fold_5\n",
      "TRAIN: [   0    1    2 ... 1687 1688 1689]\n",
      "TEST: [1642 1644 1652 1653 1654 1657 1658 1659 1660 1663 1665 1667 1668 1678\n",
      " 1679 1680 1682 1683 1690 1691 1692 1693 1694 1695 1696 1697 1698 1699\n",
      " 1700 1701 1702 1703 1704 1705 1706 1707 1708 1709 1710 1711 1712 1713\n",
      " 1714 1715 1716 1717 1718 1719 1720 1721 1722 1723 1724 1725 1726 1727\n",
      " 1728 1729 1730 1731 1732 1733 1734 1735 1736 1737 1738 1739 1740 1741\n",
      " 1742 1743 1744 1745 1746 1747 1748 1749 1750 1751 1752 1753 1754 1755\n",
      " 1756 1757 1758 1759 1760 1761 1762 1763 1764 1765 1766 1767 1768 1769\n",
      " 1770 1771 1772 1773 1774 1775 1776 1777 1778 1779 1780 1781 1782 1783\n",
      " 1784 1785 1786 1787 1788 1789 1790 1791 1792 1793 1794 1795 1796 1797\n",
      " 1798 1799 1800 1801 1802 1803 1804 1805 1806 1807 1808 1809 1810 1811\n",
      " 1812 1813 1814 1815 1816 1817 1818 1819 1820 1821 1822 1823 1824 1825\n",
      " 1826 1827 1828 1829 1830 1831 1832 1833 1834 1835 1836 1837 1838 1839\n",
      " 1840 1841 1842 1843 1844 1845 1846 1847 1848 1849 1850 1851 1852 1853\n",
      " 1854 1855 1856 1857 1858 1859 1860 1861 1862 1863 1864 1865 1866 1867\n",
      " 1868 1869 1870 1871 1872 1873 1874 1875 1876 1877 1878 1879 1880 1881\n",
      " 1882 1883 1884 1885 1886 1887 1888 1889 1890 1891 1892 1893 1894 1895\n",
      " 1896 1897 1898 1899 1900 1901 1902 1903 1904 1905 1906 1907 1908 1909\n",
      " 1910 1911 1912 1913 1914 1915 1916 1917 1918 1919 1920 1921 1922 1923\n",
      " 1924 1925 1926 1927 1928 1929 1930 1931 1932 1933 1934 1935 1936 1937\n",
      " 1938 1939 1940 1941 1942 1943 1944 1945 1946 1947 1948 1949 1950 1951\n",
      " 1952 1953 1954 1955 1956 1957 1958 1959 1960 1961 1962 1963 1964 1965\n",
      " 1966 1967 1968 1969 1970 1971 1972 1973 1974 1975 1976 1977 1978 1979\n",
      " 1980 1981 1982 1983 1984 1985 1986 1987 1988 1989 1990 1991 1992 1993\n",
      " 1994 1995 1996 1997 1998 1999 2000 2001 2002 2003 2004 2005 2006 2007\n",
      " 2008 2009 2010 2011 2012 2013 2014 2015 2016 2017 2018 2019 2020 2021\n",
      " 2022 2023 2024 2025 2026 2027 2028 2029 2030 2031 2032 2033 2034 2035\n",
      " 2036 2037 2038 2039 2040 2041 2042 2043 2044 2045 2046 2047 2048 2049\n",
      " 2050 2051 2052 2053 2054 2055 2056 2057 2058 2059 2060 2061 2062 2063\n",
      " 2064 2065 2066 2067 2068 2069 2070 2071 2072 2073 2074 2075 2076 2077\n",
      " 2078 2079 2080 2081 2082 2083 2084 2085 2086 2087 2088]\n"
     ]
    }
   ],
   "source": [
    "# print out ids of folds\n",
    "for i, (train_index, test_index) in enumerate(cv.split(x_tr, y_tr)):\n",
    "    print(\"\\nFold_\" + str(i+1))\n",
    "    print(\"TRAIN:\", train_index)\n",
    "    print(\"TEST:\", test_index)"
   ]
  },
  {
   "cell_type": "code",
   "execution_count": 29,
   "id": "d3b82c35",
   "metadata": {},
   "outputs": [],
   "source": [
    "scale = StandardScaler().fit(x_tr)\n",
    "x_tr = scale.transform(x_tr)"
   ]
  },
  {
   "cell_type": "code",
   "execution_count": 30,
   "id": "26bbd370",
   "metadata": {},
   "outputs": [
    {
     "data": {
      "text/plain": [
       "['pkl/logBB_scale_rdkit.pkl']"
      ]
     },
     "execution_count": 30,
     "metadata": {},
     "output_type": "execute_result"
    }
   ],
   "source": [
    "joblib.dump(scale, \"pkl/logBB_scale_rdkit.pkl\", compress=3)"
   ]
  },
  {
   "cell_type": "markdown",
   "id": "6edd6d75",
   "metadata": {},
   "source": [
    "# RANDOM FOREST"
   ]
  },
  {
   "cell_type": "code",
   "execution_count": 31,
   "id": "8303868b",
   "metadata": {},
   "outputs": [],
   "source": [
    "# create grid search dictionary\n",
    "param_grid = {\"max_features\": [x_tr.shape[1] // 10, x_tr.shape[1] // 7, x_tr.shape[1] // 5, x_tr.shape[1] // 3], \n",
    "              \"n_estimators\": randint(100,1000)}"
   ]
  },
  {
   "cell_type": "code",
   "execution_count": 32,
   "id": "2f2b07ae",
   "metadata": {},
   "outputs": [],
   "source": [
    "# setup model building\n",
    "m = RandomizedSearchCV(RandomForestClassifier(), param_grid, n_jobs=2, cv=cv, verbose=1)"
   ]
  },
  {
   "cell_type": "code",
   "execution_count": 33,
   "id": "f03170f6",
   "metadata": {},
   "outputs": [
    {
     "name": "stdout",
     "output_type": "stream",
     "text": [
      "Fitting 5 folds for each of 10 candidates, totalling 50 fits\n"
     ]
    },
    {
     "data": {
      "text/plain": [
       "RandomizedSearchCV(cv=StratifiedKFold(n_splits=5, random_state=None, shuffle=False),\n",
       "                   estimator=RandomForestClassifier(), n_jobs=2,\n",
       "                   param_distributions={'max_features': [20, 29, 41, 69],\n",
       "                                        'n_estimators': <scipy.stats._distn_infrastructure.rv_frozen object at 0x7fd6ea3e0350>},\n",
       "                   verbose=1)"
      ]
     },
     "execution_count": 33,
     "metadata": {},
     "output_type": "execute_result"
    }
   ],
   "source": [
    "# run model building\n",
    "m.fit(x_tr, y_tr)"
   ]
  },
  {
   "cell_type": "code",
   "execution_count": 23,
   "id": "e00f55fe",
   "metadata": {},
   "outputs": [
    {
     "data": {
      "text/plain": [
       "{'max_features': 288, 'n_estimators': 390}"
      ]
     },
     "execution_count": 23,
     "metadata": {},
     "output_type": "execute_result"
    }
   ],
   "source": [
    "m.best_params_"
   ]
  },
  {
   "cell_type": "code",
   "execution_count": 24,
   "id": "20dc6992",
   "metadata": {},
   "outputs": [
    {
     "data": {
      "text/plain": [
       "0.9956914850894403"
      ]
     },
     "execution_count": 24,
     "metadata": {},
     "output_type": "execute_result"
    }
   ],
   "source": [
    "m.best_score_"
   ]
  },
  {
   "cell_type": "code",
   "execution_count": 25,
   "id": "96c56f4a",
   "metadata": {},
   "outputs": [
    {
     "data": {
      "text/plain": [
       "{'mean_fit_time': array([30.15657053, 17.04754677, 43.46687999, 56.18002639, 54.17975903,\n",
       "        39.56079831,  9.50171299, 39.94430594, 42.41206846, 32.87366009]),\n",
       " 'std_fit_time': array([1.49695651, 0.59089783, 1.8757778 , 2.49093177, 1.96661281,\n",
       "        2.21309249, 0.4869552 , 1.70857234, 1.79909959, 3.41580318]),\n",
       " 'mean_score_time': array([0.08891735, 0.04841266, 0.10881028, 0.12835698, 0.13014188,\n",
       "        0.06702561, 0.02801995, 0.08094988, 0.11355295, 0.04876657]),\n",
       " 'std_score_time': array([0.00175251, 0.00134741, 0.00111494, 0.02394309, 0.03094958,\n",
       "        0.01373117, 0.00382002, 0.00258858, 0.00264694, 0.00526514]),\n",
       " 'param_max_features': masked_array(data=[144, 144, 144, 206, 206, 288, 144, 206, 144, 288],\n",
       "              mask=[False, False, False, False, False, False, False, False,\n",
       "                    False, False],\n",
       "        fill_value='?',\n",
       "             dtype=object),\n",
       " 'param_n_estimators': masked_array(data=[624, 330, 782, 766, 703, 390, 177, 556, 790, 359],\n",
       "              mask=[False, False, False, False, False, False, False, False,\n",
       "                    False, False],\n",
       "        fill_value='?',\n",
       "             dtype=object),\n",
       " 'params': [{'max_features': 144, 'n_estimators': 624},\n",
       "  {'max_features': 144, 'n_estimators': 330},\n",
       "  {'max_features': 144, 'n_estimators': 782},\n",
       "  {'max_features': 206, 'n_estimators': 766},\n",
       "  {'max_features': 206, 'n_estimators': 703},\n",
       "  {'max_features': 288, 'n_estimators': 390},\n",
       "  {'max_features': 144, 'n_estimators': 177},\n",
       "  {'max_features': 206, 'n_estimators': 556},\n",
       "  {'max_features': 144, 'n_estimators': 790},\n",
       "  {'max_features': 288, 'n_estimators': 359}],\n",
       " 'split0_test_score': array([0.99760766, 0.99760766, 0.99760766, 0.99760766, 0.99760766,\n",
       "        0.99760766, 0.99760766, 0.99760766, 0.99760766, 0.99760766]),\n",
       " 'split1_test_score': array([0.99760766, 0.99760766, 0.99760766, 0.99760766, 0.99760766,\n",
       "        0.99760766, 0.99760766, 0.99760766, 0.99760766, 0.99760766]),\n",
       " 'split2_test_score': array([0.99043062, 0.99043062, 0.99043062, 0.99043062, 0.99043062,\n",
       "        0.99043062, 0.99043062, 0.99043062, 0.99043062, 0.99043062]),\n",
       " 'split3_test_score': array([0.99521531, 0.99521531, 0.99521531, 0.99521531, 0.99521531,\n",
       "        0.99760766, 0.99760766, 0.99760766, 0.99521531, 0.99760766]),\n",
       " 'split4_test_score': array([0.99520384, 0.99520384, 0.99520384, 0.99520384, 0.99520384,\n",
       "        0.99520384, 0.99520384, 0.99520384, 0.99520384, 0.99520384]),\n",
       " 'mean_test_score': array([0.99521302, 0.99521302, 0.99521302, 0.99521302, 0.99521302,\n",
       "        0.99569149, 0.99569149, 0.99569149, 0.99521302, 0.99569149]),\n",
       " 'std_test_score': array([0.00262069, 0.00262069, 0.00262069, 0.00262069, 0.00262069,\n",
       "        0.00279033, 0.00279033, 0.00279033, 0.00262069, 0.00279033]),\n",
       " 'rank_test_score': array([5, 5, 5, 5, 5, 1, 1, 1, 5, 1], dtype=int32)}"
      ]
     },
     "execution_count": 25,
     "metadata": {},
     "output_type": "execute_result"
    }
   ],
   "source": [
    "m.cv_results_"
   ]
  },
  {
   "cell_type": "code",
   "execution_count": 26,
   "id": "e24419a9",
   "metadata": {},
   "outputs": [
    {
     "data": {
      "text/plain": [
       "array([0.99521302, 0.99521302, 0.99521302, 0.99521302, 0.99521302,\n",
       "       0.99569149, 0.99569149, 0.99569149, 0.99521302, 0.99569149])"
      ]
     },
     "execution_count": 26,
     "metadata": {},
     "output_type": "execute_result"
    }
   ],
   "source": [
    "m.cv_results_['mean_test_score']"
   ]
  },
  {
   "cell_type": "code",
   "execution_count": 27,
   "id": "fcdffb6f",
   "metadata": {},
   "outputs": [
    {
     "data": {
      "text/plain": [
       "[{'max_features': 144, 'n_estimators': 624},\n",
       " {'max_features': 144, 'n_estimators': 330},\n",
       " {'max_features': 144, 'n_estimators': 782},\n",
       " {'max_features': 206, 'n_estimators': 766},\n",
       " {'max_features': 206, 'n_estimators': 703},\n",
       " {'max_features': 288, 'n_estimators': 390},\n",
       " {'max_features': 144, 'n_estimators': 177},\n",
       " {'max_features': 206, 'n_estimators': 556},\n",
       " {'max_features': 144, 'n_estimators': 790},\n",
       " {'max_features': 288, 'n_estimators': 359}]"
      ]
     },
     "execution_count": 27,
     "metadata": {},
     "output_type": "execute_result"
    }
   ],
   "source": [
    "m.cv_results_['params']"
   ]
  },
  {
   "cell_type": "code",
   "execution_count": 28,
   "id": "44fe17c4",
   "metadata": {},
   "outputs": [
    {
     "data": {
      "text/plain": [
       "['pkl/logBB_rf_morgan.pkl']"
      ]
     },
     "execution_count": 28,
     "metadata": {},
     "output_type": "execute_result"
    }
   ],
   "source": [
    "joblib.dump(m, \"pkl/logBB_rf_morgan.pkl\", compress=3)"
   ]
  },
  {
   "cell_type": "code",
   "execution_count": 29,
   "id": "62b5907f",
   "metadata": {},
   "outputs": [],
   "source": [
    "# load scale if necessary\n",
    "scale = joblib.load(\"pkl/logBB_scale_rdkit.pkl\")"
   ]
  },
  {
   "cell_type": "code",
   "execution_count": 30,
   "id": "2c5e5dd2",
   "metadata": {},
   "outputs": [],
   "source": [
    "# scale descriptors of the test set compounds\n",
    "x_ts = scale.transform(x_ts)"
   ]
  },
  {
   "cell_type": "code",
   "execution_count": 31,
   "id": "e82ede27",
   "metadata": {},
   "outputs": [],
   "source": [
    "# predict logBB class\n",
    "pred_rf = m.predict(x_ts)"
   ]
  },
  {
   "cell_type": "code",
   "execution_count": 32,
   "id": "d1fde602",
   "metadata": {},
   "outputs": [
    {
     "data": {
      "text/plain": [
       "array([0, 1, 1, 0, 0, 0, 0, 1, 0, 1, 1, 0, 1, 1, 0, 0, 1, 1, 0, 0, 1, 0,\n",
       "       0, 0, 1, 0, 0, 0, 0, 0, 1, 1, 1, 1, 0, 0, 1, 1, 0, 0, 1, 0, 0, 0,\n",
       "       1, 1, 0, 1, 1, 0, 1, 1, 1, 1, 1, 1, 0, 1, 0, 1, 1, 0, 0, 1, 0, 0,\n",
       "       1, 0, 1, 0, 0, 1, 0, 0, 1, 1, 0, 0, 0, 0, 0, 0, 0, 0, 1, 1, 0, 0,\n",
       "       0, 0, 1, 0, 0, 0, 0, 0, 1, 0, 0, 1, 0, 0, 0, 0, 0, 1, 0, 1, 1, 0,\n",
       "       0, 1, 1, 0, 0, 1, 0, 1, 0, 0, 1, 0, 0, 1, 0, 1, 0, 1, 0, 0, 1, 0,\n",
       "       0, 0, 0, 1, 1, 0, 0, 0, 0, 1, 0, 1, 0, 1, 0, 0, 0, 0, 0, 0, 0, 1,\n",
       "       1, 0, 1, 1, 1, 0, 0, 0, 0, 1, 0, 1, 0, 0, 1, 1, 1, 0, 0, 0, 0, 0,\n",
       "       0, 0, 0, 0, 1, 0, 1, 0, 1, 1, 0, 0, 1, 1, 0, 1, 0, 0, 0, 0, 0, 1,\n",
       "       0, 0, 0, 1, 0, 0, 0, 0, 0, 1, 1, 0, 0, 0, 1, 0, 1, 0, 0, 0, 0, 0,\n",
       "       0, 1, 0, 0, 0, 1, 0, 0, 1, 0, 0, 1, 1, 0, 0, 1, 0, 0, 1, 1, 1, 0,\n",
       "       1, 1, 1, 1, 0, 0, 1, 1, 1, 0, 0, 1, 0, 1, 1, 0, 0, 0, 0, 1, 1, 0,\n",
       "       1, 0, 0, 0, 1, 0, 0, 1, 0, 1, 0, 0, 0, 0, 0, 0, 1, 0, 0, 0, 0, 0,\n",
       "       0, 0, 1, 1, 1, 0, 0, 1, 0, 1, 0, 0, 0, 1, 0, 0, 0, 1, 0, 1, 0, 1,\n",
       "       0, 0, 1, 0, 0, 0, 1, 0, 0, 0, 0, 0, 0, 0, 1, 0, 0, 1, 0, 0, 1, 0,\n",
       "       1, 1, 0, 0, 0, 0, 0, 1, 0, 0, 0, 0, 1, 0, 0, 0, 0, 0, 0, 0, 0, 1,\n",
       "       0, 1, 1, 1, 1, 0, 0, 0, 1, 0, 1, 0, 1, 1, 0, 0, 1, 0, 1, 0, 0, 1,\n",
       "       0, 1, 0, 1, 1, 0, 0, 0, 1, 0, 1, 1, 0, 0, 0, 0, 1, 1, 0, 1, 1, 1,\n",
       "       0, 0, 1, 0, 1, 0, 0, 0, 1, 0, 1, 1, 0, 1, 0, 0, 0, 1, 0, 0, 0, 0,\n",
       "       1, 1, 0, 0, 0, 0, 1, 1, 1, 1, 0, 1, 0, 1, 1, 1, 1, 0, 1, 0, 1, 0,\n",
       "       0, 0, 1, 1, 1, 0, 1, 1, 1, 1, 0, 0, 0, 0, 0, 1, 0, 1, 0, 0, 0, 1,\n",
       "       1, 0, 1, 1, 0, 1, 1, 0, 0, 1, 0, 0, 0, 0, 0, 0, 0, 1, 0, 0, 0, 1,\n",
       "       0, 1, 0, 0, 1, 0, 0, 1, 1, 0, 0, 0, 0, 1, 1, 0, 1, 1, 0, 0, 0, 0,\n",
       "       0, 1, 0, 0, 0, 1, 0, 0, 1, 1, 1, 1, 0, 0, 1, 0, 1])"
      ]
     },
     "execution_count": 32,
     "metadata": {},
     "output_type": "execute_result"
    }
   ],
   "source": [
    "pred_rf"
   ]
  },
  {
   "cell_type": "code",
   "execution_count": 53,
   "id": "0a8fffa9",
   "metadata": {},
   "outputs": [
    {
     "name": "stdout",
     "output_type": "stream",
     "text": [
      "Accuracy =  1.0\n",
      "MCC =  1.0\n",
      "Kappa =  1.0\n"
     ]
    }
   ],
   "source": [
    "# calc statistics\n",
    "print(\"Accuracy = \", accuracy_score(y_ts, pred_rf))\n",
    "print(\"MCC = \", matthews_corrcoef(y_ts, pred_rf))\n",
    "print(\"Kappa = \", cohen_kappa_score(y_ts, pred_rf))"
   ]
  },
  {
   "cell_type": "code",
   "execution_count": null,
   "id": "3a821f59",
   "metadata": {},
   "outputs": [],
   "source": [
    "# estimate applicability domain and calc stat\n",
    "pred_prob = svm.predict_proba(x_ts)"
   ]
  },
  {
   "cell_type": "code",
   "execution_count": 37,
   "id": "e7d395de",
   "metadata": {},
   "outputs": [
    {
     "data": {
      "text/plain": [
       "array([[1.        , 0.        ],\n",
       "       [0.01282051, 0.98717949],\n",
       "       [0.        , 1.        ],\n",
       "       ...,\n",
       "       [0.        , 1.        ],\n",
       "       [1.        , 0.        ],\n",
       "       [0.        , 1.        ]])"
      ]
     },
     "execution_count": 37,
     "metadata": {},
     "output_type": "execute_result"
    }
   ],
   "source": [
    "pred_prob"
   ]
  },
  {
   "cell_type": "code",
   "execution_count": 38,
   "id": "e1fdd175",
   "metadata": {},
   "outputs": [],
   "source": [
    "# limiar\n",
    "threshold = 0.8"
   ]
  },
  {
   "cell_type": "code",
   "execution_count": 39,
   "id": "940af9e3",
   "metadata": {},
   "outputs": [],
   "source": [
    "# calcule a probabilidade máxima prevista para cada linha (composto) e compare com o limite\n",
    "da = np.amax(pred_prob, axis=1) > threshold"
   ]
  },
  {
   "cell_type": "code",
   "execution_count": 40,
   "id": "a8a6fd23",
   "metadata": {},
   "outputs": [
    {
     "data": {
      "text/plain": [
       "1.0"
      ]
     },
     "execution_count": 40,
     "metadata": {},
     "output_type": "execute_result"
    }
   ],
   "source": [
    "# calc statistics\n",
    "accuracy_score(np.asarray(y_ts)[da], pred_rf[da])"
   ]
  },
  {
   "cell_type": "code",
   "execution_count": 41,
   "id": "c01bd8a8",
   "metadata": {},
   "outputs": [
    {
     "data": {
      "text/plain": [
       "1.0"
      ]
     },
     "execution_count": 41,
     "metadata": {},
     "output_type": "execute_result"
    }
   ],
   "source": [
    "matthews_corrcoef(np.asarray(y_ts)[da], pred_rf[da])"
   ]
  },
  {
   "cell_type": "code",
   "execution_count": 42,
   "id": "688ac83f",
   "metadata": {},
   "outputs": [
    {
     "data": {
      "text/plain": [
       "1.0"
      ]
     },
     "execution_count": 42,
     "metadata": {},
     "output_type": "execute_result"
    }
   ],
   "source": [
    "cohen_kappa_score(np.asarray(y_ts)[da], pred_rf[da])"
   ]
  },
  {
   "cell_type": "code",
   "execution_count": 43,
   "id": "d89a09f9",
   "metadata": {},
   "outputs": [
    {
     "data": {
      "text/plain": [
       "0.9961759082217974"
      ]
     },
     "execution_count": 43,
     "metadata": {},
     "output_type": "execute_result"
    }
   ],
   "source": [
    "# calc coverage\n",
    "sum(da) / len(da)"
   ]
  },
  {
   "cell_type": "markdown",
   "id": "ee571e08",
   "metadata": {},
   "source": [
    "# SVM"
   ]
  },
  {
   "cell_type": "code",
   "execution_count": 44,
   "id": "ee7360a7",
   "metadata": {},
   "outputs": [],
   "source": [
    "# create grid search dictionary\n",
    "param_grid = {\"C\": [10 ** i for i in range(0, 5)],\n",
    "              \"gamma\": [10 ** i for i in range(-6, 0)]}"
   ]
  },
  {
   "cell_type": "code",
   "execution_count": 45,
   "id": "c5ca4e66",
   "metadata": {},
   "outputs": [],
   "source": [
    "# setup model building\n",
    "svm = RandomizedSearchCV(SVC(kernel='rbf', probability=True), param_grid, n_jobs=2, cv=cv, verbose=1)"
   ]
  },
  {
   "cell_type": "code",
   "execution_count": 46,
   "id": "0b692673",
   "metadata": {},
   "outputs": [
    {
     "name": "stdout",
     "output_type": "stream",
     "text": [
      "Fitting 5 folds for each of 10 candidates, totalling 50 fits\n"
     ]
    },
    {
     "data": {
      "text/plain": [
       "RandomizedSearchCV(cv=StratifiedKFold(n_splits=5, random_state=None, shuffle=False),\n",
       "                   estimator=SVC(probability=True), n_jobs=2,\n",
       "                   param_distributions={'C': [1, 10, 100, 1000, 10000],\n",
       "                                        'gamma': [1e-06, 1e-05, 0.0001, 0.001,\n",
       "                                                  0.01, 0.1]},\n",
       "                   verbose=1)"
      ]
     },
     "execution_count": 46,
     "metadata": {},
     "output_type": "execute_result"
    }
   ],
   "source": [
    "# run model building\n",
    "svm.fit(x_tr, y_tr)"
   ]
  },
  {
   "cell_type": "code",
   "execution_count": 47,
   "id": "5d48880f",
   "metadata": {},
   "outputs": [
    {
     "data": {
      "text/plain": [
       "0.9966495702959165"
      ]
     },
     "execution_count": 47,
     "metadata": {},
     "output_type": "execute_result"
    }
   ],
   "source": [
    "svm.best_score_"
   ]
  },
  {
   "cell_type": "code",
   "execution_count": 48,
   "id": "717d555d",
   "metadata": {},
   "outputs": [
    {
     "data": {
      "text/plain": [
       "{'gamma': 1e-05, 'C': 1000}"
      ]
     },
     "execution_count": 48,
     "metadata": {},
     "output_type": "execute_result"
    }
   ],
   "source": [
    "svm.best_params_"
   ]
  },
  {
   "cell_type": "code",
   "execution_count": 49,
   "id": "a5941bdf",
   "metadata": {},
   "outputs": [
    {
     "data": {
      "text/plain": [
       "['pkl/logBB_svm_morgan.pkl']"
      ]
     },
     "execution_count": 49,
     "metadata": {},
     "output_type": "execute_result"
    }
   ],
   "source": [
    "joblib.dump(svm, \"pkl/logBB_svm_morgan.pkl\", compress=3)"
   ]
  },
  {
   "cell_type": "code",
   "execution_count": 50,
   "id": "2944fc36",
   "metadata": {},
   "outputs": [],
   "source": [
    "# predict logBB for the test set compounds\n",
    "pred_svm = svm.predict(x_ts)"
   ]
  },
  {
   "cell_type": "code",
   "execution_count": 51,
   "id": "93a40b5f",
   "metadata": {},
   "outputs": [
    {
     "data": {
      "text/plain": [
       "array([0, 1, 1, 0, 0, 0, 0, 1, 0, 1, 1, 0, 1, 1, 0, 0, 1, 1, 0, 0, 1, 0,\n",
       "       0, 0, 1, 0, 0, 0, 0, 0, 1, 1, 1, 1, 0, 0, 1, 1, 0, 0, 1, 0, 0, 0,\n",
       "       1, 1, 0, 1, 1, 0, 1, 1, 1, 1, 1, 1, 0, 1, 0, 1, 1, 0, 0, 1, 0, 0,\n",
       "       1, 0, 1, 0, 0, 1, 0, 0, 1, 1, 0, 0, 0, 0, 0, 0, 0, 0, 1, 1, 0, 0,\n",
       "       0, 0, 1, 0, 0, 0, 0, 0, 1, 0, 0, 1, 0, 0, 0, 0, 0, 1, 0, 1, 1, 0,\n",
       "       0, 1, 1, 0, 0, 1, 0, 1, 0, 1, 1, 0, 0, 1, 0, 1, 0, 1, 0, 0, 1, 0,\n",
       "       0, 0, 0, 1, 1, 0, 0, 0, 0, 1, 0, 1, 0, 1, 0, 0, 0, 0, 0, 0, 0, 1,\n",
       "       1, 0, 1, 1, 1, 0, 0, 0, 0, 1, 0, 1, 0, 0, 1, 1, 1, 0, 0, 0, 0, 0,\n",
       "       0, 0, 0, 0, 1, 0, 1, 0, 1, 1, 0, 0, 1, 1, 0, 1, 0, 0, 0, 0, 0, 1,\n",
       "       0, 0, 0, 1, 0, 0, 0, 0, 0, 1, 1, 0, 0, 0, 1, 0, 1, 0, 0, 0, 0, 0,\n",
       "       0, 1, 0, 0, 0, 1, 0, 0, 1, 0, 0, 1, 1, 0, 0, 1, 0, 0, 1, 1, 1, 0,\n",
       "       1, 1, 1, 1, 0, 0, 1, 1, 1, 0, 0, 1, 0, 1, 1, 0, 0, 0, 0, 1, 1, 0,\n",
       "       1, 0, 0, 0, 1, 0, 0, 1, 0, 1, 0, 0, 0, 0, 0, 0, 1, 0, 0, 0, 0, 0,\n",
       "       0, 0, 1, 1, 1, 0, 0, 1, 0, 1, 0, 0, 0, 1, 0, 0, 0, 1, 0, 1, 0, 1,\n",
       "       0, 0, 1, 0, 0, 0, 1, 0, 0, 0, 0, 0, 0, 0, 1, 0, 0, 1, 0, 0, 1, 0,\n",
       "       1, 1, 0, 0, 0, 0, 0, 1, 0, 0, 0, 0, 1, 0, 0, 0, 0, 0, 0, 0, 0, 1,\n",
       "       0, 1, 1, 1, 1, 0, 0, 0, 1, 0, 1, 0, 1, 1, 0, 0, 1, 0, 1, 0, 0, 1,\n",
       "       0, 1, 0, 1, 1, 0, 0, 0, 1, 0, 1, 1, 0, 0, 0, 0, 1, 1, 0, 1, 1, 1,\n",
       "       0, 0, 1, 0, 1, 0, 0, 0, 1, 0, 1, 1, 0, 1, 0, 0, 0, 1, 0, 0, 0, 0,\n",
       "       1, 1, 0, 0, 0, 0, 1, 1, 1, 1, 0, 1, 0, 1, 1, 1, 1, 0, 1, 0, 1, 0,\n",
       "       0, 0, 1, 1, 1, 0, 1, 1, 1, 1, 0, 0, 0, 0, 0, 1, 0, 1, 0, 0, 0, 1,\n",
       "       1, 0, 1, 1, 0, 1, 1, 0, 0, 1, 0, 0, 0, 0, 0, 0, 0, 1, 0, 0, 0, 1,\n",
       "       0, 1, 0, 0, 1, 0, 0, 1, 1, 0, 0, 0, 0, 1, 1, 0, 1, 1, 0, 0, 0, 0,\n",
       "       0, 1, 0, 0, 0, 1, 0, 0, 1, 1, 1, 1, 0, 0, 1, 0, 1])"
      ]
     },
     "execution_count": 51,
     "metadata": {},
     "output_type": "execute_result"
    }
   ],
   "source": [
    "pred_svm"
   ]
  },
  {
   "cell_type": "code",
   "execution_count": 52,
   "id": "fbc59188",
   "metadata": {},
   "outputs": [
    {
     "name": "stdout",
     "output_type": "stream",
     "text": [
      "Accuracy =  0.9980879541108987\n",
      "MCC =  0.9959861233185617\n",
      "Kappa =  0.9959780677807085\n"
     ]
    }
   ],
   "source": [
    "# calc statistics\n",
    "print(\"Accuracy = \", accuracy_score(y_ts, pred_svm))\n",
    "print(\"MCC = \", matthews_corrcoef(y_ts, pred_svm))\n",
    "print(\"Kappa = \", cohen_kappa_score(y_ts, pred_svm))"
   ]
  },
  {
   "cell_type": "code",
   "execution_count": 54,
   "id": "9fc60ba5",
   "metadata": {},
   "outputs": [],
   "source": [
    "# estimate applicability domain and calc stat\n",
    "pred_prob = svm.predict_proba(x_ts)"
   ]
  },
  {
   "cell_type": "code",
   "execution_count": 55,
   "id": "65efe340",
   "metadata": {},
   "outputs": [],
   "source": [
    "da = np.amax(pred_prob, axis=1) > threshold"
   ]
  },
  {
   "cell_type": "code",
   "execution_count": 56,
   "id": "aae9056a",
   "metadata": {},
   "outputs": [
    {
     "name": "stdout",
     "output_type": "stream",
     "text": [
      "Accuracy =  1.0\n",
      "MCC =  1.0\n",
      "Kappa =  1.0\n",
      "Coverage =  0.9961759082217974\n"
     ]
    }
   ],
   "source": [
    "print(\"Accuracy = \", accuracy_score(np.asarray(y_ts)[da], pred_svm[da]))\n",
    "print(\"MCC = \", matthews_corrcoef(np.asarray(y_ts)[da], pred_svm[da]))\n",
    "print(\"Kappa = \", cohen_kappa_score(np.asarray(y_ts)[da], pred_svm[da]))\n",
    "print(\"Coverage = \", sum(da) / len(da))"
   ]
  },
  {
   "cell_type": "markdown",
   "id": "78c1761f",
   "metadata": {},
   "source": [
    "# MULTILAYER PERCEPTRON"
   ]
  },
  {
   "cell_type": "code",
   "execution_count": 57,
   "id": "2fc85171",
   "metadata": {},
   "outputs": [],
   "source": [
    "param_grid = {\n",
    "    'hidden_layer_sizes': [(sp_randint.rvs(100,600,1),sp_randint.rvs(100,600,1),), \n",
    "                                          (sp_randint.rvs(100,600,1),)],\n",
    "    'activation': ['tanh', 'relu', 'logistic'],\n",
    "    'solver': ['sgd', 'adam', 'lbfgs'],\n",
    "    'alpha': uniform(0.0001, 0.9),\n",
    "    'learning_rate': ['constant','adaptive']}"
   ]
  },
  {
   "cell_type": "code",
   "execution_count": 58,
   "id": "b9336589",
   "metadata": {},
   "outputs": [],
   "source": [
    "mlp = RandomizedSearchCV(MLPClassifier(), param_grid, n_jobs=2, cv=cv, verbose=1)"
   ]
  },
  {
   "cell_type": "code",
   "execution_count": 59,
   "id": "66f955c8",
   "metadata": {},
   "outputs": [
    {
     "name": "stdout",
     "output_type": "stream",
     "text": [
      "Fitting 5 folds for each of 10 candidates, totalling 50 fits\n"
     ]
    },
    {
     "data": {
      "text/plain": [
       "RandomizedSearchCV(cv=StratifiedKFold(n_splits=5, random_state=None, shuffle=False),\n",
       "                   estimator=MLPClassifier(), n_jobs=2,\n",
       "                   param_distributions={'activation': ['tanh', 'relu',\n",
       "                                                       'logistic'],\n",
       "                                        'alpha': <scipy.stats._distn_infrastructure.rv_frozen object at 0x7fa29c46b210>,\n",
       "                                        'hidden_layer_sizes': [(357, 187),\n",
       "                                                               (262,)],\n",
       "                                        'learning_rate': ['constant',\n",
       "                                                          'adaptive'],\n",
       "                                        'solver': ['sgd', 'adam', 'lbfgs']},\n",
       "                   verbose=1)"
      ]
     },
     "execution_count": 59,
     "metadata": {},
     "output_type": "execute_result"
    }
   ],
   "source": [
    "# run model building\n",
    "mlp.fit(x_tr, y_tr)"
   ]
  },
  {
   "cell_type": "code",
   "execution_count": 60,
   "id": "9300af70",
   "metadata": {},
   "outputs": [
    {
     "data": {
      "text/plain": [
       "0.9976065080949595"
      ]
     },
     "execution_count": 60,
     "metadata": {},
     "output_type": "execute_result"
    },
    {
     "name": "stderr",
     "output_type": "stream",
     "text": [
      "/home/note/anaconda3/lib/python3.7/site-packages/sklearn/neural_network/_multilayer_perceptron.py:617: ConvergenceWarning: Stochastic Optimizer: Maximum iterations (200) reached and the optimization hasn't converged yet.\n",
      "  % self.max_iter, ConvergenceWarning)\n",
      "/home/note/anaconda3/lib/python3.7/site-packages/sklearn/neural_network/_multilayer_perceptron.py:617: ConvergenceWarning: Stochastic Optimizer: Maximum iterations (200) reached and the optimization hasn't converged yet.\n",
      "  % self.max_iter, ConvergenceWarning)\n",
      "/home/note/anaconda3/lib/python3.7/site-packages/sklearn/neural_network/_multilayer_perceptron.py:617: ConvergenceWarning: Stochastic Optimizer: Maximum iterations (200) reached and the optimization hasn't converged yet.\n",
      "  % self.max_iter, ConvergenceWarning)\n",
      "/home/note/anaconda3/lib/python3.7/site-packages/sklearn/neural_network/_multilayer_perceptron.py:617: ConvergenceWarning: Stochastic Optimizer: Maximum iterations (200) reached and the optimization hasn't converged yet.\n",
      "  % self.max_iter, ConvergenceWarning)\n",
      "/home/note/anaconda3/lib/python3.7/site-packages/sklearn/neural_network/_multilayer_perceptron.py:617: ConvergenceWarning: Stochastic Optimizer: Maximum iterations (200) reached and the optimization hasn't converged yet.\n",
      "  % self.max_iter, ConvergenceWarning)\n"
     ]
    }
   ],
   "source": [
    "mlp.best_score_"
   ]
  },
  {
   "cell_type": "code",
   "execution_count": 61,
   "id": "c22cfc62",
   "metadata": {},
   "outputs": [
    {
     "data": {
      "text/plain": [
       "{'activation': 'tanh',\n",
       " 'alpha': 0.8112542299947991,\n",
       " 'hidden_layer_sizes': (357, 187),\n",
       " 'learning_rate': 'constant',\n",
       " 'solver': 'adam'}"
      ]
     },
     "execution_count": 61,
     "metadata": {},
     "output_type": "execute_result"
    }
   ],
   "source": [
    "mlp.best_params_"
   ]
  },
  {
   "cell_type": "code",
   "execution_count": 62,
   "id": "77dcc6ff",
   "metadata": {},
   "outputs": [],
   "source": [
    "pred_mlp = mlp.predict(x_ts)"
   ]
  },
  {
   "cell_type": "code",
   "execution_count": 63,
   "id": "08e15638",
   "metadata": {},
   "outputs": [
    {
     "name": "stdout",
     "output_type": "stream",
     "text": [
      "Accuracy =  0.9980879541108987\n",
      "MCC =  0.9959861233185617\n",
      "Kappa =  0.9959780677807085\n"
     ]
    }
   ],
   "source": [
    "# calc statistics\n",
    "print(\"Accuracy = \", accuracy_score(y_ts, pred_mlp))\n",
    "print(\"MCC = \", matthews_corrcoef(y_ts, pred_mlp))\n",
    "print(\"Kappa = \", cohen_kappa_score(y_ts, pred_mlp))"
   ]
  },
  {
   "cell_type": "code",
   "execution_count": 64,
   "id": "8d92253b",
   "metadata": {},
   "outputs": [],
   "source": [
    "# estimate applicability domain and calc stat\n",
    "pred_prob = mlp.predict_proba(x_ts)"
   ]
  },
  {
   "cell_type": "code",
   "execution_count": 65,
   "id": "37581766",
   "metadata": {},
   "outputs": [],
   "source": [
    "da = np.amax(pred_prob, axis=1) > threshold"
   ]
  },
  {
   "cell_type": "code",
   "execution_count": 66,
   "id": "6a19abc2",
   "metadata": {},
   "outputs": [
    {
     "name": "stdout",
     "output_type": "stream",
     "text": [
      "Accuracy =  1.0\n",
      "MCC =  1.0\n",
      "Kappa =  1.0\n",
      "Coverage =  0.9980879541108987\n"
     ]
    },
    {
     "name": "stderr",
     "output_type": "stream",
     "text": [
      "/home/note/anaconda3/lib/python3.7/site-packages/sklearn/neural_network/_multilayer_perceptron.py:617: ConvergenceWarning: Stochastic Optimizer: Maximum iterations (200) reached and the optimization hasn't converged yet.\n",
      "  % self.max_iter, ConvergenceWarning)\n",
      "/home/note/anaconda3/lib/python3.7/site-packages/sklearn/neural_network/_multilayer_perceptron.py:617: ConvergenceWarning: Stochastic Optimizer: Maximum iterations (200) reached and the optimization hasn't converged yet.\n",
      "  % self.max_iter, ConvergenceWarning)\n",
      "/home/note/anaconda3/lib/python3.7/site-packages/sklearn/neural_network/_multilayer_perceptron.py:617: ConvergenceWarning: Stochastic Optimizer: Maximum iterations (200) reached and the optimization hasn't converged yet.\n",
      "  % self.max_iter, ConvergenceWarning)\n",
      "/home/note/anaconda3/lib/python3.7/site-packages/sklearn/neural_network/_multilayer_perceptron.py:617: ConvergenceWarning: Stochastic Optimizer: Maximum iterations (200) reached and the optimization hasn't converged yet.\n",
      "  % self.max_iter, ConvergenceWarning)\n",
      "/home/note/anaconda3/lib/python3.7/site-packages/sklearn/neural_network/_multilayer_perceptron.py:617: ConvergenceWarning: Stochastic Optimizer: Maximum iterations (200) reached and the optimization hasn't converged yet.\n",
      "  % self.max_iter, ConvergenceWarning)\n",
      "/home/note/anaconda3/lib/python3.7/site-packages/sklearn/neural_network/_multilayer_perceptron.py:617: ConvergenceWarning: Stochastic Optimizer: Maximum iterations (200) reached and the optimization hasn't converged yet.\n",
      "  % self.max_iter, ConvergenceWarning)\n",
      "/home/note/anaconda3/lib/python3.7/site-packages/sklearn/neural_network/_multilayer_perceptron.py:617: ConvergenceWarning: Stochastic Optimizer: Maximum iterations (200) reached and the optimization hasn't converged yet.\n",
      "  % self.max_iter, ConvergenceWarning)\n",
      "/home/note/anaconda3/lib/python3.7/site-packages/sklearn/neural_network/_multilayer_perceptron.py:617: ConvergenceWarning: Stochastic Optimizer: Maximum iterations (200) reached and the optimization hasn't converged yet.\n",
      "  % self.max_iter, ConvergenceWarning)\n"
     ]
    }
   ],
   "source": [
    "print(\"Accuracy = \", accuracy_score(np.asarray(y_ts)[da], pred_mlp[da]))\n",
    "print(\"MCC = \", matthews_corrcoef(np.asarray(y_ts)[da], pred_mlp[da]))\n",
    "print(\"Kappa = \", cohen_kappa_score(np.asarray(y_ts)[da], pred_mlp[da]))\n",
    "print(\"Coverage = \", sum(da) / len(da))"
   ]
  },
  {
   "cell_type": "markdown",
   "id": "6b1752a4",
   "metadata": {},
   "source": [
    "# modelo de consenso"
   ]
  },
  {
   "cell_type": "code",
   "execution_count": 67,
   "id": "97d748fe",
   "metadata": {},
   "outputs": [],
   "source": [
    "pred_c = 1 * (((pred_rf + pred_svm + pred_mlp) / 3) >= 0.5)"
   ]
  },
  {
   "cell_type": "code",
   "execution_count": 68,
   "id": "1c130303",
   "metadata": {},
   "outputs": [
    {
     "data": {
      "text/plain": [
       "array([0, 1, 1, 0, 0, 0, 0, 1, 0, 1, 1, 0, 1, 1, 0, 0, 1, 1, 0, 0, 1, 0,\n",
       "       0, 0, 1, 0, 0, 0, 0, 0, 1, 1, 1, 1, 0, 0, 1, 1, 0, 0, 1, 0, 0, 0,\n",
       "       1, 1, 0, 1, 1, 0, 1, 1, 1, 1, 1, 1, 0, 1, 0, 1, 1, 0, 0, 1, 0, 0,\n",
       "       1, 0, 1, 0, 0, 1, 0, 0, 1, 1, 0, 0, 0, 0, 0, 0, 0, 0, 1, 1, 0, 0,\n",
       "       0, 0, 1, 0, 0, 0, 0, 0, 1, 0, 0, 1, 0, 0, 0, 0, 0, 1, 0, 1, 1, 0,\n",
       "       0, 1, 1, 0, 0, 1, 0, 1, 0, 0, 1, 0, 0, 1, 0, 1, 0, 1, 0, 0, 1, 0,\n",
       "       0, 0, 0, 1, 1, 0, 0, 0, 0, 1, 0, 1, 0, 1, 0, 0, 0, 0, 0, 0, 0, 1,\n",
       "       1, 0, 1, 1, 1, 0, 0, 0, 0, 1, 0, 1, 0, 0, 1, 1, 1, 0, 0, 0, 0, 0,\n",
       "       0, 0, 0, 0, 1, 0, 1, 0, 1, 1, 0, 0, 1, 1, 0, 1, 0, 0, 0, 0, 0, 1,\n",
       "       0, 0, 0, 1, 0, 0, 0, 0, 0, 1, 1, 0, 0, 0, 1, 0, 1, 0, 0, 0, 0, 0,\n",
       "       0, 1, 0, 0, 0, 1, 0, 0, 1, 0, 0, 1, 1, 0, 0, 1, 0, 0, 1, 1, 1, 0,\n",
       "       1, 1, 1, 1, 0, 0, 1, 1, 1, 0, 0, 1, 0, 1, 1, 0, 0, 0, 0, 1, 1, 0,\n",
       "       1, 0, 0, 0, 1, 0, 0, 1, 0, 1, 0, 0, 0, 0, 0, 0, 1, 0, 0, 0, 0, 0,\n",
       "       0, 0, 1, 1, 1, 0, 0, 1, 0, 1, 0, 0, 0, 1, 0, 0, 0, 1, 0, 1, 0, 1,\n",
       "       0, 0, 1, 0, 0, 0, 1, 0, 0, 0, 0, 0, 0, 0, 1, 0, 0, 1, 0, 0, 1, 0,\n",
       "       1, 1, 0, 0, 0, 0, 0, 1, 0, 0, 0, 0, 1, 0, 0, 0, 0, 0, 0, 0, 0, 1,\n",
       "       0, 1, 1, 1, 1, 0, 0, 0, 1, 0, 1, 0, 1, 1, 0, 0, 1, 0, 1, 0, 0, 1,\n",
       "       0, 1, 0, 1, 1, 0, 0, 0, 1, 0, 1, 1, 0, 0, 0, 0, 1, 1, 0, 1, 1, 1,\n",
       "       0, 0, 1, 0, 1, 0, 0, 0, 1, 0, 1, 1, 0, 1, 0, 0, 0, 1, 0, 0, 0, 0,\n",
       "       1, 1, 0, 0, 0, 0, 1, 1, 1, 1, 0, 1, 0, 1, 1, 1, 1, 0, 1, 0, 1, 0,\n",
       "       0, 0, 1, 1, 1, 0, 1, 1, 1, 1, 0, 0, 0, 0, 0, 1, 0, 1, 0, 0, 0, 1,\n",
       "       1, 0, 1, 1, 0, 1, 1, 0, 0, 1, 0, 0, 0, 0, 0, 0, 0, 1, 0, 0, 0, 1,\n",
       "       0, 1, 0, 0, 1, 0, 0, 1, 1, 0, 0, 0, 0, 1, 1, 0, 1, 1, 0, 0, 0, 0,\n",
       "       0, 1, 0, 0, 0, 1, 0, 0, 1, 1, 1, 1, 0, 0, 1, 0, 1])"
      ]
     },
     "execution_count": 68,
     "metadata": {},
     "output_type": "execute_result"
    }
   ],
   "source": [
    "pred_c"
   ]
  },
  {
   "cell_type": "code",
   "execution_count": 69,
   "id": "93738954",
   "metadata": {},
   "outputs": [
    {
     "name": "stdout",
     "output_type": "stream",
     "text": [
      "Accuracy =  1.0\n",
      "MCC =  1.0\n",
      "Kappa =  1.0\n"
     ]
    }
   ],
   "source": [
    "# calc statistics\n",
    "print(\"Accuracy = \", accuracy_score(y_ts, pred_c))\n",
    "print(\"MCC = \", matthews_corrcoef(y_ts, pred_c))\n",
    "print(\"Kappa = \", cohen_kappa_score(y_ts, pred_c))"
   ]
  },
  {
   "cell_type": "code",
   "execution_count": null,
   "id": "f17f2fb8",
   "metadata": {},
   "outputs": [],
   "source": []
  },
  {
   "cell_type": "markdown",
   "id": "73805065",
   "metadata": {},
   "source": [
    "#### Criar dobras para validação cruzada"
   ]
  },
  {
   "cell_type": "code",
   "execution_count": 70,
   "id": "c3254c7f",
   "metadata": {},
   "outputs": [],
   "source": [
    "models_param_grid = [ \n",
    "    {# 1º param grid, correspondente ao RandomForestClassifier\n",
    "        \"n_estimators\": [100, 250, 500, 750, 1000],\n",
    "        \"max_features\": ['auto', 'sqrt'],\n",
    "        \"criterion\": ['gini', 'entropy'],\n",
    "        \"random_state\": [24]\n",
    "    },\n",
    "    {# 2º param grid, correspondente ao SVC\n",
    "        \"C\": [0.001, 0.01, 0.1, 1, 10, 20, 30, 40, 50, 60, 70, 80, 90, 100],\n",
    "        \"gamma\": [0.1, 5, 10, 15, 20, 25, 30],\n",
    "        \"kernel\": ['rbf', 'linear', 'poly', 'sigmoid'],\n",
    "        \"random_state\": [24]\n",
    "    },\n",
    "    {# 3º param grid, correspondente ao MLPClassifier\n",
    "        'hidden_layer_sizes': [(100,600,1), (100,600,1), (100,)],\n",
    "        'activation': ['tanh', 'relu', 'logistic'],\n",
    "        'solver': ['sgd', 'adam', 'lbfgs'],\n",
    "        'alpha': [0.0001, 0.9],\n",
    "        'learning_rate': ['constant','adaptive'],\n",
    "    }\n",
    "]"
   ]
  },
  {
   "cell_type": "code",
   "execution_count": 71,
   "id": "f8a9a582",
   "metadata": {},
   "outputs": [],
   "source": [
    "models_to_run = [RandomForestClassifier(), SVC(), MLPClassifier()]"
   ]
  },
  {
   "cell_type": "code",
   "execution_count": null,
   "id": "02a453d3",
   "metadata": {},
   "outputs": [],
   "source": [
    "for i,model in enumerate(models_to_run):\n",
    "    nested_CV_search = NestedCV(model=model, params_grid=models_param_grid[i],\n",
    "                                outer_kfolds=5, inner_kfolds=5,\n",
    "                                cv_options={'sqrt_of_score':True, 'randomized_search_iter':30})\n",
    "\n",
    "    nested_CV_search.fit(X=x_tr,y=y_tr)\n",
    "    model_param_grid = nested_CV_search.best_params\n",
    "\n",
    "    print(np.mean(nested_CV_search.outer_scores))\n",
    "    print(nested_CV_search.best_inner_params_list)"
   ]
  },
  {
   "cell_type": "code",
   "execution_count": null,
   "id": "cc42dc7b",
   "metadata": {},
   "outputs": [],
   "source": [
    "# print out ids of folds\n",
    "for i, (train_index, test_index) in enumerate(cv.split(x_tr, y_tr)):\n",
    "    print(\"\\nFold_\" + str(i+1))\n",
    "    print(\"TRAIN:\", train_index)\n",
    "    print(\"TEST:\", test_index)"
   ]
  },
  {
   "cell_type": "code",
   "execution_count": null,
   "id": "b1aa9ce5",
   "metadata": {},
   "outputs": [],
   "source": []
  }
 ],
 "metadata": {
  "kernelspec": {
   "display_name": "Python 3 (ipykernel)",
   "language": "python",
   "name": "python3"
  },
  "language_info": {
   "codemirror_mode": {
    "name": "ipython",
    "version": 3
   },
   "file_extension": ".py",
   "mimetype": "text/x-python",
   "name": "python",
   "nbconvert_exporter": "python",
   "pygments_lexer": "ipython3",
   "version": "3.7.11"
  }
 },
 "nbformat": 4,
 "nbformat_minor": 5
}
