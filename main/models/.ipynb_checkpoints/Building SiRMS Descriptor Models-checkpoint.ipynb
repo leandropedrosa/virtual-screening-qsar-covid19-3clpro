{
 "cells": [
  {
   "cell_type": "code",
   "execution_count": null,
   "id": "3877b18b",
   "metadata": {},
   "outputs": [],
   "source": [
    "\n",
    "import numpy as np\n",
    "import pandas as pd\n",
    "# Algorítimos\n",
    "from sklearn.ensemble import RandomForestClassifier\n",
    "from sklearn.neural_network import MLPClassifier\n",
    "from sklearn.svm import SVC\n",
    "\n",
    "from rdkit import Chem, DataStructs\n",
    "from rdkit.Chem import AllChem, Descriptors\n",
    "from sklearn.model_selection import train_test_split, StratifiedKFold, RandomizedSearchCV\n",
    "from sklearn.datasets import make_classification\n",
    "from sklearn.model_selection import cross_val_score, KFold\n",
    "from nested_cv import NestedCV\n",
    "from sklearn.preprocessing import MinMaxScaler, StandardScaler\n",
    "import joblib\n",
    "from sklearn.metrics import accuracy_score, cohen_kappa_score, matthews_corrcoef\n",
    "from scipy.stats import expon, randint, uniform\n",
    "from scipy.stats import randint as sp_randint\n",
    "\n"
   ]
  },
  {
   "cell_type": "code",
   "execution_count": null,
   "id": "1ab18e5d",
   "metadata": {},
   "outputs": [],
   "source": [
    "from rdkit.Chem import PandasTools\n",
    "from collections import Counter\n",
    "## Carregar dados\n",
    "def carregar_dados():\n",
    "    # Definir caminho do arquivo\n",
    "    file = '../dataset/formats/sdf/COVID-Sulkowsk.sdf'\n",
    "\n",
    "       # Novo dicionário inicializado a partir de um objeto de mapeamento\n",
    "    sdfInfo = dict(smilesName='SMILES', molColName='ROMol')\n",
    "\n",
    "    # Carregando o arquivo SDF com os dicionarios mapeados\n",
    "    moldf = PandasTools.LoadSDF(file, **sdfInfo)\n",
    "    print('Original data: ', moldf.shape)\n",
    "\n",
    "    # Renomear ROMol\n",
    "    moldf = moldf.rename(columns={'ROMol': 'Mol'})\n",
    "\n",
    "    # Remover moléculas RDKit ausentes\n",
    "    moldf = moldf[pd.notnull(moldf['Mol'])]\n",
    "    if 'StandardizerResult' in moldf.columns:\n",
    "        moldf = moldf.drop(columns='StandardizerResult')\n",
    "\n",
    "    # Colunas\n",
    "    print('Dados mantidos: ', moldf.shape)\n",
    "\n",
    "\n",
    "    moldf['Outcome'] = moldf['Outcome'].replace('Active', 1)\n",
    "    moldf['Outcome'] = moldf['Outcome'].replace('Inactive', 0)\n",
    "\n",
    "    classes = Counter(moldf['Outcome'])\n",
    "    print('\\033[1m' + 'Forma do conjunto de treinamento:' + '\\n' + '\\033[0m')\n",
    "    for key, value in classes.items():\n",
    "        print('\\t\\t Classe %d: %d' % (key, value))\n",
    "    print('\\t\\t Número total de compostos: %d' % (len(moldf['Outcome'])))\n",
    "\n",
    "    print('Class labels:', np.unique(classes))\n",
    "  \n",
    "    return moldf"
   ]
  },
  {
   "cell_type": "code",
   "execution_count": null,
   "id": "b451a071",
   "metadata": {},
   "outputs": [],
   "source": [
    "moldf = carregar_dados();\n",
    "moldf.plot(kind=\"hist\", legend=None, bins=20, color='k')\n",
    "moldf.plot(kind=\"kde\", legend=None);"
   ]
  },
  {
   "cell_type": "code",
   "execution_count": null,
   "id": "2272869e",
   "metadata": {},
   "outputs": [],
   "source": [
    "import pandas as pd\n",
    "import numpy as np\n",
    "import matplotlib.pyplot as plt\n",
    "from rdkit import Chem\n",
    "from math import floor\n",
    "#Rdkit: coleção de quiminformática e software de aprendizado de máquina escrito em C++ e Python de Código Aberto.\n",
    "from rdkit import Chem\n",
    "from rdkit.Chem import AllChem\n",
    "from rdkit.Chem import Draw\n",
    "from rdkit.Chem import PandasTools\n",
    "from rdkit.Chem.Draw import IPythonConsole\n",
    "from collections import Counter\n",
    "from sklearn.feature_selection import VarianceThreshold\n",
    "\n",
    "## Carregar dados\n",
    "def sirms_descriptors(moldf):\n",
    "    desc = pd.read_csv('../descriptors/generate/sirms/sirms_descriptors.txt', sep='\\t')\n",
    "    desc.drop(desc.columns[0:1], axis=1,inplace=True)\n",
    "    descriptors = desc.columns.difference(moldf.columns).tolist()\n",
    "    desc.head()\n",
    "    moldf_desc = pd.concat([moldf,desc], axis=1)\n",
    "    balance_data = 'no'\n",
    "\n",
    "    if balance_data == 'yes':\n",
    "        # Equilibre os dados usando 1/2 similaridade e 1/2 aleatória\n",
    "        moldf_desc = BalanceBySim(moldf_desc, 'Outcome', 2)\n",
    "        # Forma de impressão\n",
    "        print('Forma do conjunto de treinamento: %s' % Counter(moldf_desc['Outcome'].loc[moldf_desc['Set'] == 'train']))\n",
    "        print('Forma externa definida: %s' % Counter(moldf_desc['Outcome'].loc[moldf_desc['Set'] == 'ext']))\n",
    "\n",
    "    else:\n",
    "        moldf_desc['Set'] = 'train'\n",
    "        # Forma de impressão\n",
    "        print('Forma do conjunto de treinamento: %s' % Counter(moldf_desc['Outcome']))\n",
    "        print('Forma externa definida: %s' % Counter(moldf_desc['Outcome'].loc[moldf_desc['Set'] == 'ext']))\n",
    "        \n",
    "    moldf_train = moldf_desc[(moldf_desc['Set'] == 'train')]\n",
    "\n",
    "    y_train = moldf_train['Outcome'].to_numpy()\n",
    "    X_train = moldf_train[descriptors]\n",
    "    X_train.shape        \n",
    "    \n",
    "    ##### Remover variáveis constantes e quase constantes\n",
    "    X_train = X_train.select_dtypes(exclude=['object'])\n",
    "    X_train = X_train.dropna(axis=1, how='any')\n",
    "    X_train = X_train.fillna(0)\n",
    "\n",
    "    # Definir filtro de baixa variação (limite de 10%)\n",
    "    def variance_filter(data, threshold=0.1):\n",
    "        selector = VarianceThreshold(threshold)\n",
    "        selector.fit(data)\n",
    "        return data[data.columns[selector.get_support(indices=True)]]\n",
    "\n",
    "    # Aplicar filtro\n",
    "    X = variance_filter(X_train)\n",
    "    \n",
    "    ##### Remover variáveis correlacionadas\n",
    "    correlated_features = set()  \n",
    "    correlation_matrix = X_train.corr()\n",
    "\n",
    "    for i in range(len(correlation_matrix.columns)):  \n",
    "        for j in range(i):\n",
    "            if abs(correlation_matrix.iloc[i, j]) > 0.9:\n",
    "                colname = correlation_matrix.columns[i]\n",
    "                correlated_features.add(colname)\n",
    "\n",
    "    X_train.drop(labels=correlated_features, axis=1, inplace=True)\n",
    "\n",
    "    X_train.shape\n",
    "    X_train.to_csv('../descriptors/generate/sirms/processed/sirms-chembl-sars-cov-3C-like-proteinase-processed.txt', sep='\\t', index=False)\n",
    "    \n",
    "    data_train = {'moldf_desc': moldf_desc, 'moldf_train': moldf_train, 'Y_train': moldf_train['Outcome'].to_numpy(), 'X_train': moldf_train[descriptors]}\n",
    "    return data_train\n",
    "    "
   ]
  },
  {
   "cell_type": "code",
   "execution_count": null,
   "id": "2a8b8380",
   "metadata": {},
   "outputs": [],
   "source": [
    "data_sirms = sirms_descriptors(moldf)\n",
    "Y_train_sirms = data_sirms['Y_train']\n",
    "X_train_sirms = data_sirms['X_train']\n",
    "X_train_sirms.shape"
   ]
  },
  {
   "cell_type": "code",
   "execution_count": null,
   "id": "1ffbd613",
   "metadata": {},
   "outputs": [],
   "source": [
    "# verifique se o conjunto de dados está balanceado\n",
    "sum(Y_train_sirms) / len(Y_train_sirms)"
   ]
  },
  {
   "cell_type": "code",
   "execution_count": null,
   "id": "9cafd2e9",
   "metadata": {},
   "outputs": [],
   "source": [
    "seed = 42"
   ]
  },
  {
   "cell_type": "markdown",
   "id": "a5c1214c",
   "metadata": {},
   "source": [
    "#### Divida todo o conjunto em conjuntos de treinamento e teste"
   ]
  },
  {
   "cell_type": "code",
   "execution_count": null,
   "id": "4c86e762",
   "metadata": {},
   "outputs": [],
   "source": [
    "# randomly select 20% of compounds as test set\n",
    "x_tr, x_ts, y_tr, y_ts = train_test_split(X_train_sirms, Y_train_sirms, test_size=0.20, random_state=seed)"
   ]
  },
  {
   "cell_type": "code",
   "execution_count": null,
   "id": "a663991e",
   "metadata": {},
   "outputs": [],
   "source": [
    "cv = StratifiedKFold(n_splits=5, shuffle=False, random_state=None)"
   ]
  },
  {
   "cell_type": "code",
   "execution_count": null,
   "id": "bdf248d7",
   "metadata": {
    "scrolled": false
   },
   "outputs": [],
   "source": [
    "# print out ids of folds\n",
    "for i, (train_index, test_index) in enumerate(cv.split(x_tr, y_tr)):\n",
    "    print(\"\\nFold_\" + str(i+1))\n",
    "    print(\"TRAIN:\", train_index)\n",
    "    print(\"TEST:\", test_index)"
   ]
  },
  {
   "cell_type": "code",
   "execution_count": null,
   "id": "d3b82c35",
   "metadata": {},
   "outputs": [],
   "source": [
    "scale = StandardScaler().fit(x_tr)\n",
    "x_tr = scale.transform(x_tr)"
   ]
  },
  {
   "cell_type": "code",
   "execution_count": null,
   "id": "26bbd370",
   "metadata": {},
   "outputs": [],
   "source": [
    "joblib.dump(scale, \"pkl/logBB_scale_sirms.pkl\", compress=3)"
   ]
  },
  {
   "cell_type": "markdown",
   "id": "6edd6d75",
   "metadata": {},
   "source": [
    "# RANDOM FOREST"
   ]
  },
  {
   "cell_type": "code",
   "execution_count": null,
   "id": "8303868b",
   "metadata": {},
   "outputs": [],
   "source": [
    "# create grid search dictionary\n",
    "param_grid = {\"max_features\": [x_tr.shape[1] // 10, x_tr.shape[1] // 7, x_tr.shape[1] // 5, x_tr.shape[1] // 3], \n",
    "              \"n_estimators\": randint(100,1000)}"
   ]
  },
  {
   "cell_type": "code",
   "execution_count": null,
   "id": "2f2b07ae",
   "metadata": {},
   "outputs": [],
   "source": [
    "# setup model building\n",
    "m = RandomizedSearchCV(RandomForestClassifier(), param_grid, n_jobs=2, cv=cv, verbose=1)"
   ]
  },
  {
   "cell_type": "code",
   "execution_count": null,
   "id": "f03170f6",
   "metadata": {},
   "outputs": [],
   "source": [
    "# run model building\n",
    "m.fit(x_tr, y_tr)"
   ]
  },
  {
   "cell_type": "code",
   "execution_count": null,
   "id": "e00f55fe",
   "metadata": {},
   "outputs": [],
   "source": [
    "m.best_params_"
   ]
  },
  {
   "cell_type": "code",
   "execution_count": null,
   "id": "20dc6992",
   "metadata": {},
   "outputs": [],
   "source": [
    "m.best_score_"
   ]
  },
  {
   "cell_type": "code",
   "execution_count": null,
   "id": "96c56f4a",
   "metadata": {},
   "outputs": [],
   "source": [
    "m.cv_results_"
   ]
  },
  {
   "cell_type": "code",
   "execution_count": null,
   "id": "e24419a9",
   "metadata": {},
   "outputs": [],
   "source": [
    "m.cv_results_['mean_test_score']"
   ]
  },
  {
   "cell_type": "code",
   "execution_count": null,
   "id": "fcdffb6f",
   "metadata": {},
   "outputs": [],
   "source": [
    "m.cv_results_['params']"
   ]
  },
  {
   "cell_type": "code",
   "execution_count": null,
   "id": "44fe17c4",
   "metadata": {},
   "outputs": [],
   "source": [
    "joblib.dump(m, \"pkl/logBB_rf_morgan.pkl\", compress=3)"
   ]
  },
  {
   "cell_type": "code",
   "execution_count": null,
   "id": "62b5907f",
   "metadata": {},
   "outputs": [],
   "source": [
    "# load scale if necessary\n",
    "scale = joblib.load(\"pkl/logBB_scale_sirms.pkl\")"
   ]
  },
  {
   "cell_type": "code",
   "execution_count": null,
   "id": "2c5e5dd2",
   "metadata": {},
   "outputs": [],
   "source": [
    "# scale descriptors of the test set compounds\n",
    "x_ts = scale.transform(x_ts)"
   ]
  },
  {
   "cell_type": "code",
   "execution_count": null,
   "id": "0a8fffa9",
   "metadata": {},
   "outputs": [],
   "source": [
    "# calc statistics\n",
    "print(\"Accuracy = \", accuracy_score(y_ts, pred_rf))\n",
    "print(\"MCC = \", matthews_corrcoef(y_ts, pred_rf))\n",
    "print(\"Kappa = \", cohen_kappa_score(y_ts, pred_rf))"
   ]
  },
  {
   "cell_type": "code",
   "execution_count": null,
   "id": "3a821f59",
   "metadata": {},
   "outputs": [],
   "source": [
    "# estimate applicability domain and calc stat\n",
    "pred_prob = m.predict_proba(x_ts)"
   ]
  },
  {
   "cell_type": "code",
   "execution_count": null,
   "id": "e7d395de",
   "metadata": {},
   "outputs": [],
   "source": [
    "pred_prob"
   ]
  },
  {
   "cell_type": "code",
   "execution_count": null,
   "id": "e1fdd175",
   "metadata": {},
   "outputs": [],
   "source": [
    "# limiar\n",
    "threshold = 0.8"
   ]
  },
  {
   "cell_type": "code",
   "execution_count": null,
   "id": "940af9e3",
   "metadata": {},
   "outputs": [],
   "source": [
    "# calcule a probabilidade máxima prevista para cada linha (composto) e compare com o limite\n",
    "da = np.amax(pred_prob, axis=1) > threshold"
   ]
  },
  {
   "cell_type": "code",
   "execution_count": null,
   "id": "a8a6fd23",
   "metadata": {},
   "outputs": [],
   "source": [
    "# calc statistics\n",
    "accuracy_score(np.asarray(y_ts)[da], pred_rf[da])"
   ]
  },
  {
   "cell_type": "code",
   "execution_count": null,
   "id": "c01bd8a8",
   "metadata": {},
   "outputs": [],
   "source": [
    "matthews_corrcoef(np.asarray(y_ts)[da], pred_rf[da])"
   ]
  },
  {
   "cell_type": "code",
   "execution_count": null,
   "id": "688ac83f",
   "metadata": {},
   "outputs": [],
   "source": [
    "cohen_kappa_score(np.asarray(y_ts)[da], pred_rf[da])"
   ]
  },
  {
   "cell_type": "code",
   "execution_count": null,
   "id": "d89a09f9",
   "metadata": {},
   "outputs": [],
   "source": [
    "# calc coverage\n",
    "sum(da) / len(da)"
   ]
  },
  {
   "cell_type": "markdown",
   "id": "ee571e08",
   "metadata": {},
   "source": [
    "# SVM"
   ]
  },
  {
   "cell_type": "code",
   "execution_count": null,
   "id": "ee7360a7",
   "metadata": {},
   "outputs": [],
   "source": [
    "# create grid search dictionary\n",
    "param_grid = {\"C\": [10 ** i for i in range(0, 5)],\n",
    "              \"gamma\": [10 ** i for i in range(-6, 0)]}"
   ]
  },
  {
   "cell_type": "code",
   "execution_count": null,
   "id": "c5ca4e66",
   "metadata": {},
   "outputs": [],
   "source": [
    "# setup model building\n",
    "svm = RandomizedSearchCV(SVC(kernel='rbf', probability=True), param_grid, n_jobs=2, cv=cv, verbose=1)"
   ]
  },
  {
   "cell_type": "code",
   "execution_count": null,
   "id": "0b692673",
   "metadata": {},
   "outputs": [],
   "source": [
    "# run model building\n",
    "svm.fit(x_tr, y_tr)"
   ]
  },
  {
   "cell_type": "code",
   "execution_count": null,
   "id": "5d48880f",
   "metadata": {},
   "outputs": [],
   "source": [
    "svm.best_score_"
   ]
  },
  {
   "cell_type": "code",
   "execution_count": null,
   "id": "717d555d",
   "metadata": {},
   "outputs": [],
   "source": [
    "svm.best_params_"
   ]
  },
  {
   "cell_type": "code",
   "execution_count": null,
   "id": "a5941bdf",
   "metadata": {},
   "outputs": [],
   "source": [
    "joblib.dump(svm, \"pkl/logBB_svm_morgan.pkl\", compress=3)"
   ]
  },
  {
   "cell_type": "code",
   "execution_count": null,
   "id": "2944fc36",
   "metadata": {},
   "outputs": [],
   "source": [
    "# predict logBB for the test set compounds\n",
    "pred_svm = svm.predict(x_ts)"
   ]
  },
  {
   "cell_type": "code",
   "execution_count": null,
   "id": "93a40b5f",
   "metadata": {},
   "outputs": [],
   "source": [
    "pred_svm"
   ]
  },
  {
   "cell_type": "code",
   "execution_count": null,
   "id": "fbc59188",
   "metadata": {},
   "outputs": [],
   "source": [
    "# calc statistics\n",
    "print(\"Accuracy = \", accuracy_score(y_ts, pred_svm))\n",
    "print(\"MCC = \", matthews_corrcoef(y_ts, pred_svm))\n",
    "print(\"Kappa = \", cohen_kappa_score(y_ts, pred_svm))"
   ]
  },
  {
   "cell_type": "code",
   "execution_count": null,
   "id": "9fc60ba5",
   "metadata": {},
   "outputs": [],
   "source": [
    "# estimate applicability domain and calc stat\n",
    "pred_prob = svm.predict_proba(x_ts)"
   ]
  },
  {
   "cell_type": "code",
   "execution_count": null,
   "id": "65efe340",
   "metadata": {},
   "outputs": [],
   "source": [
    "da = np.amax(pred_prob, axis=1) > threshold"
   ]
  },
  {
   "cell_type": "code",
   "execution_count": null,
   "id": "aae9056a",
   "metadata": {},
   "outputs": [],
   "source": [
    "print(\"Accuracy = \", accuracy_score(np.asarray(y_ts)[da], pred_svm[da]))\n",
    "print(\"MCC = \", matthews_corrcoef(np.asarray(y_ts)[da], pred_svm[da]))\n",
    "print(\"Kappa = \", cohen_kappa_score(np.asarray(y_ts)[da], pred_svm[da]))\n",
    "print(\"Coverage = \", sum(da) / len(da))"
   ]
  },
  {
   "cell_type": "markdown",
   "id": "78c1761f",
   "metadata": {},
   "source": [
    "# MULTILAYER PERCEPTRON"
   ]
  },
  {
   "cell_type": "code",
   "execution_count": null,
   "id": "2fc85171",
   "metadata": {},
   "outputs": [],
   "source": [
    "param_grid = {\n",
    "    'hidden_layer_sizes': [(sp_randint.rvs(100,600,1),sp_randint.rvs(100,600,1),), \n",
    "                                          (sp_randint.rvs(100,600,1),)],\n",
    "    'activation': ['tanh', 'relu', 'logistic'],\n",
    "    'solver': ['sgd', 'adam', 'lbfgs'],\n",
    "    'alpha': uniform(0.0001, 0.9),\n",
    "    'learning_rate': ['constant','adaptive']}"
   ]
  },
  {
   "cell_type": "code",
   "execution_count": null,
   "id": "b9336589",
   "metadata": {},
   "outputs": [],
   "source": [
    "mlp = RandomizedSearchCV(MLPClassifier(), param_grid, n_jobs=2, cv=cv, verbose=1)"
   ]
  },
  {
   "cell_type": "code",
   "execution_count": null,
   "id": "66f955c8",
   "metadata": {},
   "outputs": [],
   "source": [
    "# run model building\n",
    "mlp.fit(x_tr, y_tr)"
   ]
  },
  {
   "cell_type": "code",
   "execution_count": null,
   "id": "9300af70",
   "metadata": {},
   "outputs": [],
   "source": [
    "mlp.best_score_"
   ]
  },
  {
   "cell_type": "code",
   "execution_count": null,
   "id": "c22cfc62",
   "metadata": {},
   "outputs": [],
   "source": [
    "mlp.best_params_"
   ]
  },
  {
   "cell_type": "code",
   "execution_count": null,
   "id": "77dcc6ff",
   "metadata": {},
   "outputs": [],
   "source": [
    "pred_mlp = mlp.predict(x_ts)"
   ]
  },
  {
   "cell_type": "code",
   "execution_count": null,
   "id": "08e15638",
   "metadata": {},
   "outputs": [],
   "source": [
    "# calc statistics\n",
    "print(\"Accuracy = \", accuracy_score(y_ts, pred_mlp))\n",
    "print(\"MCC = \", matthews_corrcoef(y_ts, pred_mlp))\n",
    "print(\"Kappa = \", cohen_kappa_score(y_ts, pred_mlp))"
   ]
  },
  {
   "cell_type": "code",
   "execution_count": null,
   "id": "8d92253b",
   "metadata": {},
   "outputs": [],
   "source": [
    "# estimate applicability domain and calc stat\n",
    "pred_prob = mlp.predict_proba(x_ts)"
   ]
  },
  {
   "cell_type": "code",
   "execution_count": null,
   "id": "37581766",
   "metadata": {},
   "outputs": [],
   "source": [
    "da = np.amax(pred_prob, axis=1) > threshold"
   ]
  },
  {
   "cell_type": "code",
   "execution_count": null,
   "id": "6a19abc2",
   "metadata": {},
   "outputs": [],
   "source": [
    "print(\"Accuracy = \", accuracy_score(np.asarray(y_ts)[da], pred_mlp[da]))\n",
    "print(\"MCC = \", matthews_corrcoef(np.asarray(y_ts)[da], pred_mlp[da]))\n",
    "print(\"Kappa = \", cohen_kappa_score(np.asarray(y_ts)[da], pred_mlp[da]))\n",
    "print(\"Coverage = \", sum(da) / len(da))"
   ]
  },
  {
   "cell_type": "markdown",
   "id": "6b1752a4",
   "metadata": {},
   "source": [
    "# modelo de consenso"
   ]
  },
  {
   "cell_type": "code",
   "execution_count": null,
   "id": "97d748fe",
   "metadata": {},
   "outputs": [],
   "source": [
    "pred_c = 1 * (((pred_rf + pred_svm + pred_mlp) / 3) >= 0.5)"
   ]
  },
  {
   "cell_type": "code",
   "execution_count": null,
   "id": "1c130303",
   "metadata": {},
   "outputs": [],
   "source": [
    "pred_c"
   ]
  },
  {
   "cell_type": "code",
   "execution_count": null,
   "id": "93738954",
   "metadata": {},
   "outputs": [],
   "source": [
    "# calc statistics\n",
    "print(\"Accuracy = \", accuracy_score(y_ts, pred_c))\n",
    "print(\"MCC = \", matthews_corrcoef(y_ts, pred_c))\n",
    "print(\"Kappa = \", cohen_kappa_score(y_ts, pred_c))"
   ]
  },
  {
   "cell_type": "code",
   "execution_count": null,
   "id": "f17f2fb8",
   "metadata": {},
   "outputs": [],
   "source": []
  },
  {
   "cell_type": "markdown",
   "id": "73805065",
   "metadata": {},
   "source": [
    "#### Criar dobras para validação cruzada"
   ]
  },
  {
   "cell_type": "code",
   "execution_count": null,
   "id": "c3254c7f",
   "metadata": {},
   "outputs": [],
   "source": [
    "models_param_grid = [ \n",
    "    {# 1º param grid, correspondente ao RandomForestClassifier\n",
    "        \"n_estimators\": [100, 250, 500, 750, 1000],\n",
    "        \"max_features\": ['auto', 'sqrt'],\n",
    "        \"criterion\": ['gini', 'entropy'],\n",
    "        \"random_state\": [24]\n",
    "    },\n",
    "    {# 2º param grid, correspondente ao SVC\n",
    "        \"C\": [0.001, 0.01, 0.1, 1, 10, 20, 30, 40, 50, 60, 70, 80, 90, 100],\n",
    "        \"gamma\": [0.1, 5, 10, 15, 20, 25, 30],\n",
    "        \"kernel\": ['rbf', 'linear', 'poly', 'sigmoid'],\n",
    "        \"random_state\": [24]\n",
    "    },\n",
    "    {# 3º param grid, correspondente ao MLPClassifier\n",
    "        'hidden_layer_sizes': [(100,600,1), (100,600,1), (100,)],\n",
    "        'activation': ['tanh', 'relu', 'logistic'],\n",
    "        'solver': ['sgd', 'adam', 'lbfgs'],\n",
    "        'alpha': [0.0001, 0.9],\n",
    "        'learning_rate': ['constant','adaptive'],\n",
    "    }\n",
    "]"
   ]
  },
  {
   "cell_type": "code",
   "execution_count": null,
   "id": "f8a9a582",
   "metadata": {},
   "outputs": [],
   "source": [
    "models_to_run = [RandomForestClassifier(), SVC(), MLPClassifier()]"
   ]
  },
  {
   "cell_type": "code",
   "execution_count": null,
   "id": "02a453d3",
   "metadata": {},
   "outputs": [],
   "source": [
    "for i,model in enumerate(models_to_run):\n",
    "    nested_CV_search = NestedCV(model=model, params_grid=models_param_grid[i],\n",
    "                                outer_kfolds=5, inner_kfolds=5,\n",
    "                                cv_options={'sqrt_of_score':True, 'randomized_search_iter':30})\n",
    "\n",
    "    nested_CV_search.fit(X=x_tr,y=y_tr)\n",
    "    model_param_grid = nested_CV_search.best_params\n",
    "\n",
    "    print(np.mean(nested_CV_search.outer_scores))\n",
    "    print(nested_CV_search.best_inner_params_list)"
   ]
  },
  {
   "cell_type": "code",
   "execution_count": null,
   "id": "cc42dc7b",
   "metadata": {},
   "outputs": [],
   "source": [
    "# print out ids of folds\n",
    "for i, (train_index, test_index) in enumerate(cv.split(x_tr, y_tr)):\n",
    "    print(\"\\nFold_\" + str(i+1))\n",
    "    print(\"TRAIN:\", train_index)\n",
    "    print(\"TEST:\", test_index)"
   ]
  },
  {
   "cell_type": "code",
   "execution_count": null,
   "id": "b1aa9ce5",
   "metadata": {},
   "outputs": [],
   "source": []
  }
 ],
 "metadata": {
  "kernelspec": {
   "display_name": "Python 3 (ipykernel)",
   "language": "python",
   "name": "python3"
  },
  "language_info": {
   "codemirror_mode": {
    "name": "ipython",
    "version": 3
   },
   "file_extension": ".py",
   "mimetype": "text/x-python",
   "name": "python",
   "nbconvert_exporter": "python",
   "pygments_lexer": "ipython3",
   "version": "3.7.11"
  }
 },
 "nbformat": 4,
 "nbformat_minor": 5
}
